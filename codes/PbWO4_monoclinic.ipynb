{
  "nbformat": 4,
  "nbformat_minor": 0,
  "metadata": {
    "colab": {
      "provenance": [],
      "authorship_tag": "ABX9TyNmhoNDOvcb2BHf/3gbywhA",
      "include_colab_link": true
    },
    "kernelspec": {
      "name": "python3",
      "display_name": "Python 3"
    },
    "language_info": {
      "name": "python"
    },
    "widgets": {
      "application/vnd.jupyter.widget-state+json": {
        "ed70502eeb2f4b27b2d7e310272c5865": {
          "model_module": "@jupyter-widgets/controls",
          "model_name": "HBoxModel",
          "model_module_version": "1.5.0",
          "state": {
            "_dom_classes": [],
            "_model_module": "@jupyter-widgets/controls",
            "_model_module_version": "1.5.0",
            "_model_name": "HBoxModel",
            "_view_count": null,
            "_view_module": "@jupyter-widgets/controls",
            "_view_module_version": "1.5.0",
            "_view_name": "HBoxView",
            "box_style": "",
            "children": [
              "IPY_MODEL_94e791e6030241d692022d20adb04787",
              "IPY_MODEL_566be747fd3a458e8bfc0d5a5cb88ee5",
              "IPY_MODEL_8bf3aff72aaf4b8cac414367de7aa7fa"
            ],
            "layout": "IPY_MODEL_1a706e6c12f3440287a7e8f59a0cb0f1"
          }
        },
        "94e791e6030241d692022d20adb04787": {
          "model_module": "@jupyter-widgets/controls",
          "model_name": "HTMLModel",
          "model_module_version": "1.5.0",
          "state": {
            "_dom_classes": [],
            "_model_module": "@jupyter-widgets/controls",
            "_model_module_version": "1.5.0",
            "_model_name": "HTMLModel",
            "_view_count": null,
            "_view_module": "@jupyter-widgets/controls",
            "_view_module_version": "1.5.0",
            "_view_name": "HTMLView",
            "description": "",
            "description_tooltip": null,
            "layout": "IPY_MODEL_0d17920d7c1941f98e9674dd46606846",
            "placeholder": "​",
            "style": "IPY_MODEL_80e2f61c3bb24573917878a1b5883f35",
            "value": "Retrieving MaterialsDoc documents: 100%"
          }
        },
        "566be747fd3a458e8bfc0d5a5cb88ee5": {
          "model_module": "@jupyter-widgets/controls",
          "model_name": "FloatProgressModel",
          "model_module_version": "1.5.0",
          "state": {
            "_dom_classes": [],
            "_model_module": "@jupyter-widgets/controls",
            "_model_module_version": "1.5.0",
            "_model_name": "FloatProgressModel",
            "_view_count": null,
            "_view_module": "@jupyter-widgets/controls",
            "_view_module_version": "1.5.0",
            "_view_name": "ProgressView",
            "bar_style": "success",
            "description": "",
            "description_tooltip": null,
            "layout": "IPY_MODEL_c0eb58590772452abaa3744560710c66",
            "max": 1,
            "min": 0,
            "orientation": "horizontal",
            "style": "IPY_MODEL_d4929694f6a14d5d9e395f96b5650077",
            "value": 1
          }
        },
        "8bf3aff72aaf4b8cac414367de7aa7fa": {
          "model_module": "@jupyter-widgets/controls",
          "model_name": "HTMLModel",
          "model_module_version": "1.5.0",
          "state": {
            "_dom_classes": [],
            "_model_module": "@jupyter-widgets/controls",
            "_model_module_version": "1.5.0",
            "_model_name": "HTMLModel",
            "_view_count": null,
            "_view_module": "@jupyter-widgets/controls",
            "_view_module_version": "1.5.0",
            "_view_name": "HTMLView",
            "description": "",
            "description_tooltip": null,
            "layout": "IPY_MODEL_ecaff447832a4812a65e2bb9b1289dfa",
            "placeholder": "​",
            "style": "IPY_MODEL_7df69c2d22f34b4183037322ab50b326",
            "value": " 1/1 [00:00&lt;00:00, 55.61it/s]"
          }
        },
        "1a706e6c12f3440287a7e8f59a0cb0f1": {
          "model_module": "@jupyter-widgets/base",
          "model_name": "LayoutModel",
          "model_module_version": "1.2.0",
          "state": {
            "_model_module": "@jupyter-widgets/base",
            "_model_module_version": "1.2.0",
            "_model_name": "LayoutModel",
            "_view_count": null,
            "_view_module": "@jupyter-widgets/base",
            "_view_module_version": "1.2.0",
            "_view_name": "LayoutView",
            "align_content": null,
            "align_items": null,
            "align_self": null,
            "border": null,
            "bottom": null,
            "display": null,
            "flex": null,
            "flex_flow": null,
            "grid_area": null,
            "grid_auto_columns": null,
            "grid_auto_flow": null,
            "grid_auto_rows": null,
            "grid_column": null,
            "grid_gap": null,
            "grid_row": null,
            "grid_template_areas": null,
            "grid_template_columns": null,
            "grid_template_rows": null,
            "height": null,
            "justify_content": null,
            "justify_items": null,
            "left": null,
            "margin": null,
            "max_height": null,
            "max_width": null,
            "min_height": null,
            "min_width": null,
            "object_fit": null,
            "object_position": null,
            "order": null,
            "overflow": null,
            "overflow_x": null,
            "overflow_y": null,
            "padding": null,
            "right": null,
            "top": null,
            "visibility": null,
            "width": null
          }
        },
        "0d17920d7c1941f98e9674dd46606846": {
          "model_module": "@jupyter-widgets/base",
          "model_name": "LayoutModel",
          "model_module_version": "1.2.0",
          "state": {
            "_model_module": "@jupyter-widgets/base",
            "_model_module_version": "1.2.0",
            "_model_name": "LayoutModel",
            "_view_count": null,
            "_view_module": "@jupyter-widgets/base",
            "_view_module_version": "1.2.0",
            "_view_name": "LayoutView",
            "align_content": null,
            "align_items": null,
            "align_self": null,
            "border": null,
            "bottom": null,
            "display": null,
            "flex": null,
            "flex_flow": null,
            "grid_area": null,
            "grid_auto_columns": null,
            "grid_auto_flow": null,
            "grid_auto_rows": null,
            "grid_column": null,
            "grid_gap": null,
            "grid_row": null,
            "grid_template_areas": null,
            "grid_template_columns": null,
            "grid_template_rows": null,
            "height": null,
            "justify_content": null,
            "justify_items": null,
            "left": null,
            "margin": null,
            "max_height": null,
            "max_width": null,
            "min_height": null,
            "min_width": null,
            "object_fit": null,
            "object_position": null,
            "order": null,
            "overflow": null,
            "overflow_x": null,
            "overflow_y": null,
            "padding": null,
            "right": null,
            "top": null,
            "visibility": null,
            "width": null
          }
        },
        "80e2f61c3bb24573917878a1b5883f35": {
          "model_module": "@jupyter-widgets/controls",
          "model_name": "DescriptionStyleModel",
          "model_module_version": "1.5.0",
          "state": {
            "_model_module": "@jupyter-widgets/controls",
            "_model_module_version": "1.5.0",
            "_model_name": "DescriptionStyleModel",
            "_view_count": null,
            "_view_module": "@jupyter-widgets/base",
            "_view_module_version": "1.2.0",
            "_view_name": "StyleView",
            "description_width": ""
          }
        },
        "c0eb58590772452abaa3744560710c66": {
          "model_module": "@jupyter-widgets/base",
          "model_name": "LayoutModel",
          "model_module_version": "1.2.0",
          "state": {
            "_model_module": "@jupyter-widgets/base",
            "_model_module_version": "1.2.0",
            "_model_name": "LayoutModel",
            "_view_count": null,
            "_view_module": "@jupyter-widgets/base",
            "_view_module_version": "1.2.0",
            "_view_name": "LayoutView",
            "align_content": null,
            "align_items": null,
            "align_self": null,
            "border": null,
            "bottom": null,
            "display": null,
            "flex": null,
            "flex_flow": null,
            "grid_area": null,
            "grid_auto_columns": null,
            "grid_auto_flow": null,
            "grid_auto_rows": null,
            "grid_column": null,
            "grid_gap": null,
            "grid_row": null,
            "grid_template_areas": null,
            "grid_template_columns": null,
            "grid_template_rows": null,
            "height": null,
            "justify_content": null,
            "justify_items": null,
            "left": null,
            "margin": null,
            "max_height": null,
            "max_width": null,
            "min_height": null,
            "min_width": null,
            "object_fit": null,
            "object_position": null,
            "order": null,
            "overflow": null,
            "overflow_x": null,
            "overflow_y": null,
            "padding": null,
            "right": null,
            "top": null,
            "visibility": null,
            "width": null
          }
        },
        "d4929694f6a14d5d9e395f96b5650077": {
          "model_module": "@jupyter-widgets/controls",
          "model_name": "ProgressStyleModel",
          "model_module_version": "1.5.0",
          "state": {
            "_model_module": "@jupyter-widgets/controls",
            "_model_module_version": "1.5.0",
            "_model_name": "ProgressStyleModel",
            "_view_count": null,
            "_view_module": "@jupyter-widgets/base",
            "_view_module_version": "1.2.0",
            "_view_name": "StyleView",
            "bar_color": null,
            "description_width": ""
          }
        },
        "ecaff447832a4812a65e2bb9b1289dfa": {
          "model_module": "@jupyter-widgets/base",
          "model_name": "LayoutModel",
          "model_module_version": "1.2.0",
          "state": {
            "_model_module": "@jupyter-widgets/base",
            "_model_module_version": "1.2.0",
            "_model_name": "LayoutModel",
            "_view_count": null,
            "_view_module": "@jupyter-widgets/base",
            "_view_module_version": "1.2.0",
            "_view_name": "LayoutView",
            "align_content": null,
            "align_items": null,
            "align_self": null,
            "border": null,
            "bottom": null,
            "display": null,
            "flex": null,
            "flex_flow": null,
            "grid_area": null,
            "grid_auto_columns": null,
            "grid_auto_flow": null,
            "grid_auto_rows": null,
            "grid_column": null,
            "grid_gap": null,
            "grid_row": null,
            "grid_template_areas": null,
            "grid_template_columns": null,
            "grid_template_rows": null,
            "height": null,
            "justify_content": null,
            "justify_items": null,
            "left": null,
            "margin": null,
            "max_height": null,
            "max_width": null,
            "min_height": null,
            "min_width": null,
            "object_fit": null,
            "object_position": null,
            "order": null,
            "overflow": null,
            "overflow_x": null,
            "overflow_y": null,
            "padding": null,
            "right": null,
            "top": null,
            "visibility": null,
            "width": null
          }
        },
        "7df69c2d22f34b4183037322ab50b326": {
          "model_module": "@jupyter-widgets/controls",
          "model_name": "DescriptionStyleModel",
          "model_module_version": "1.5.0",
          "state": {
            "_model_module": "@jupyter-widgets/controls",
            "_model_module_version": "1.5.0",
            "_model_name": "DescriptionStyleModel",
            "_view_count": null,
            "_view_module": "@jupyter-widgets/base",
            "_view_module_version": "1.2.0",
            "_view_name": "StyleView",
            "description_width": ""
          }
        }
      }
    }
  },
  "cells": [
    {
      "cell_type": "markdown",
      "metadata": {
        "id": "view-in-github",
        "colab_type": "text"
      },
      "source": [
        "<a href=\"https://colab.research.google.com/github/dtht2d/scintilator/blob/main/codes/PbWO4_monoclinic.ipynb\" target=\"_parent\"><img src=\"https://colab.research.google.com/assets/colab-badge.svg\" alt=\"Open In Colab\"/></a>"
      ]
    },
    {
      "cell_type": "markdown",
      "source": [
        "# Optical properties of $\\text{PbWO}_4$ and its ano-photonic Scincillator Improvement in Radiation Detection"
      ],
      "metadata": {
        "id": "SGm9R0apXups"
      }
    },
    {
      "cell_type": "code",
      "source": [
        "%autosave 30"
      ],
      "metadata": {
        "id": "2teACzJy7rX5",
        "outputId": "517f70ff-1ee2-474d-8b0b-6aa7b5e3cde1",
        "colab": {
          "base_uri": "https://localhost:8080/",
          "height": 35
        }
      },
      "execution_count": null,
      "outputs": [
        {
          "output_type": "display_data",
          "data": {
            "application/javascript": [
              "IPython.notebook.set_autosave_interval(30000)"
            ]
          },
          "metadata": {}
        },
        {
          "output_type": "stream",
          "name": "stdout",
          "text": [
            "Autosaving every 30 seconds\n"
          ]
        }
      ]
    },
    {
      "cell_type": "markdown",
      "source": [
        "# **Objectives**\n",
        "---\n",
        "\n",
        "Study the electronic structure and optical properties of $\\text{PbWO}_4$\n",
        "\n",
        "What makes Lead Tungstate (PbWO4) crystal a popular choice as a detector material in high energy physics devices, such as the CMS detector at CERN?\n",
        "\n",
        "Is its quick decay time, high density, and strong resistance to radiation. Its unique properties also make it a promising material for use in medical devices. In addition, it is widely used in photonics applications due to its stable physical and chemical properties and exceptional optical properties.\n",
        "\n",
        "Study the principle of nano-photonics and how we can integrate nano-photonics with traditional scintillator materials to improve the development of radiation detection"
      ],
      "metadata": {
        "id": "CA0DXezrXjgq"
      }
    },
    {
      "cell_type": "markdown",
      "source": [
        "## **Installation**"
      ],
      "metadata": {
        "id": "-fivBTUGXMtD"
      }
    },
    {
      "cell_type": "code",
      "execution_count": 2,
      "metadata": {
        "id": "nS6C96UQfbUu",
        "colab": {
          "base_uri": "https://localhost:8080/"
        },
        "outputId": "55f28e3b-cfb8-41b2-f89e-aaabba291422"
      },
      "outputs": [
        {
          "output_type": "stream",
          "name": "stdout",
          "text": [
            "Looking in indexes: https://pypi.org/simple, https://us-python.pkg.dev/colab-wheels/public/simple/\n",
            "Collecting mp-api\n",
            "  Downloading mp_api-0.30.10-py3-none-any.whl (71 kB)\n",
            "\u001b[2K     \u001b[90m━━━━━━━━━━━━━━━━━━━━━━━━━━━━━━━━━━━━━━━━\u001b[0m \u001b[32m71.4/71.4 KB\u001b[0m \u001b[31m10.0 MB/s\u001b[0m eta \u001b[36m0:00:00\u001b[0m\n",
            "\u001b[?25hRequirement already satisfied: setuptools in /usr/local/lib/python3.9/dist-packages (from mp-api) (67.6.0)\n",
            "Collecting pymatgen>=2022.3.7\n",
            "  Downloading pymatgen-2023.3.23-cp39-cp39-manylinux_2_17_x86_64.manylinux2014_x86_64.whl (12.4 MB)\n",
            "\u001b[2K     \u001b[90m━━━━━━━━━━━━━━━━━━━━━━━━━━━━━━━━━━━━━━━━\u001b[0m \u001b[32m12.4/12.4 MB\u001b[0m \u001b[31m91.7 MB/s\u001b[0m eta \u001b[36m0:00:00\u001b[0m\n",
            "\u001b[?25hCollecting emmet-core>=0.39.8\n",
            "  Downloading emmet_core-0.51.0-py3-none-any.whl (151 kB)\n",
            "\u001b[2K     \u001b[90m━━━━━━━━━━━━━━━━━━━━━━━━━━━━━━━━━━━━━━\u001b[0m \u001b[32m151.0/151.0 KB\u001b[0m \u001b[31m21.3 MB/s\u001b[0m eta \u001b[36m0:00:00\u001b[0m\n",
            "\u001b[?25hRequirement already satisfied: requests>=2.23.0 in /usr/local/lib/python3.9/dist-packages (from mp-api) (2.27.1)\n",
            "Requirement already satisfied: typing-extensions>=3.7.4.1 in /usr/local/lib/python3.9/dist-packages (from mp-api) (4.5.0)\n",
            "Requirement already satisfied: msgpack in /usr/local/lib/python3.9/dist-packages (from mp-api) (1.0.5)\n",
            "Collecting monty>=2021.3.12\n",
            "  Downloading monty-2022.9.9-py3-none-any.whl (66 kB)\n",
            "\u001b[2K     \u001b[90m━━━━━━━━━━━━━━━━━━━━━━━━━━━━━━━━━━━━━━━━\u001b[0m \u001b[32m66.9/66.9 KB\u001b[0m \u001b[31m9.5 MB/s\u001b[0m eta \u001b[36m0:00:00\u001b[0m\n",
            "\u001b[?25hCollecting spglib>=2.0.1\n",
            "  Downloading spglib-2.0.2-cp39-cp39-manylinux_2_17_x86_64.manylinux2014_x86_64.whl (515 kB)\n",
            "\u001b[2K     \u001b[90m━━━━━━━━━━━━━━━━━━━━━━━━━━━━━━━━━━━━━━\u001b[0m \u001b[32m515.0/515.0 KB\u001b[0m \u001b[31m38.5 MB/s\u001b[0m eta \u001b[36m0:00:00\u001b[0m\n",
            "\u001b[?25hCollecting pybtex~=0.24\n",
            "  Downloading pybtex-0.24.0-py2.py3-none-any.whl (561 kB)\n",
            "\u001b[2K     \u001b[90m━━━━━━━━━━━━━━━━━━━━━━━━━━━━━━━━━━━━━━\u001b[0m \u001b[32m561.4/561.4 KB\u001b[0m \u001b[31m33.1 MB/s\u001b[0m eta \u001b[36m0:00:00\u001b[0m\n",
            "\u001b[?25hRequirement already satisfied: pydantic>=1.10.2 in /usr/local/lib/python3.9/dist-packages (from emmet-core>=0.39.8->mp-api) (1.10.6)\n",
            "Requirement already satisfied: tqdm in /usr/local/lib/python3.9/dist-packages (from pymatgen>=2022.3.7->mp-api) (4.65.0)\n",
            "Requirement already satisfied: plotly>=4.5.0 in /usr/local/lib/python3.9/dist-packages (from pymatgen>=2022.3.7->mp-api) (5.13.1)\n",
            "Requirement already satisfied: scipy>=1.5.0 in /usr/local/lib/python3.9/dist-packages (from pymatgen>=2022.3.7->mp-api) (1.10.1)\n",
            "Requirement already satisfied: pandas in /usr/local/lib/python3.9/dist-packages (from pymatgen>=2022.3.7->mp-api) (1.4.4)\n",
            "Requirement already satisfied: numpy>=1.20.1 in /usr/local/lib/python3.9/dist-packages (from pymatgen>=2022.3.7->mp-api) (1.22.4)\n",
            "Requirement already satisfied: palettable>=3.1.1 in /usr/local/lib/python3.9/dist-packages (from pymatgen>=2022.3.7->mp-api) (3.3.0)\n",
            "Requirement already satisfied: matplotlib>=1.5 in /usr/local/lib/python3.9/dist-packages (from pymatgen>=2022.3.7->mp-api) (3.7.1)\n",
            "Requirement already satisfied: sympy in /usr/local/lib/python3.9/dist-packages (from pymatgen>=2022.3.7->mp-api) (1.11.1)\n",
            "Collecting uncertainties>=3.1.4\n",
            "  Downloading uncertainties-3.1.7-py2.py3-none-any.whl (98 kB)\n",
            "\u001b[2K     \u001b[90m━━━━━━━━━━━━━━━━━━━━━━━━━━━━━━━━━━━━━━━━\u001b[0m \u001b[32m98.4/98.4 KB\u001b[0m \u001b[31m13.9 MB/s\u001b[0m eta \u001b[36m0:00:00\u001b[0m\n",
            "\u001b[?25hCollecting ruamel.yaml>=0.17.0\n",
            "  Downloading ruamel.yaml-0.17.21-py3-none-any.whl (109 kB)\n",
            "\u001b[2K     \u001b[90m━━━━━━━━━━━━━━━━━━━━━━━━━━━━━━━━━━━━━━\u001b[0m \u001b[32m109.5/109.5 KB\u001b[0m \u001b[31m13.7 MB/s\u001b[0m eta \u001b[36m0:00:00\u001b[0m\n",
            "\u001b[?25hRequirement already satisfied: tabulate in /usr/local/lib/python3.9/dist-packages (from pymatgen>=2022.3.7->mp-api) (0.8.10)\n",
            "Requirement already satisfied: networkx>=2.2 in /usr/local/lib/python3.9/dist-packages (from pymatgen>=2022.3.7->mp-api) (3.0)\n",
            "Requirement already satisfied: charset-normalizer~=2.0.0 in /usr/local/lib/python3.9/dist-packages (from requests>=2.23.0->mp-api) (2.0.12)\n",
            "Requirement already satisfied: idna<4,>=2.5 in /usr/local/lib/python3.9/dist-packages (from requests>=2.23.0->mp-api) (3.4)\n",
            "Requirement already satisfied: certifi>=2017.4.17 in /usr/local/lib/python3.9/dist-packages (from requests>=2.23.0->mp-api) (2022.12.7)\n",
            "Requirement already satisfied: urllib3<1.27,>=1.21.1 in /usr/local/lib/python3.9/dist-packages (from requests>=2.23.0->mp-api) (1.26.15)\n",
            "Requirement already satisfied: importlib-resources>=3.2.0 in /usr/local/lib/python3.9/dist-packages (from matplotlib>=1.5->pymatgen>=2022.3.7->mp-api) (5.12.0)\n",
            "Requirement already satisfied: contourpy>=1.0.1 in /usr/local/lib/python3.9/dist-packages (from matplotlib>=1.5->pymatgen>=2022.3.7->mp-api) (1.0.7)\n",
            "Requirement already satisfied: cycler>=0.10 in /usr/local/lib/python3.9/dist-packages (from matplotlib>=1.5->pymatgen>=2022.3.7->mp-api) (0.11.0)\n",
            "Requirement already satisfied: packaging>=20.0 in /usr/local/lib/python3.9/dist-packages (from matplotlib>=1.5->pymatgen>=2022.3.7->mp-api) (23.0)\n",
            "Requirement already satisfied: pyparsing>=2.3.1 in /usr/local/lib/python3.9/dist-packages (from matplotlib>=1.5->pymatgen>=2022.3.7->mp-api) (3.0.9)\n",
            "Requirement already satisfied: kiwisolver>=1.0.1 in /usr/local/lib/python3.9/dist-packages (from matplotlib>=1.5->pymatgen>=2022.3.7->mp-api) (1.4.4)\n",
            "Requirement already satisfied: pillow>=6.2.0 in /usr/local/lib/python3.9/dist-packages (from matplotlib>=1.5->pymatgen>=2022.3.7->mp-api) (8.4.0)\n",
            "Requirement already satisfied: python-dateutil>=2.7 in /usr/local/lib/python3.9/dist-packages (from matplotlib>=1.5->pymatgen>=2022.3.7->mp-api) (2.8.2)\n",
            "Requirement already satisfied: fonttools>=4.22.0 in /usr/local/lib/python3.9/dist-packages (from matplotlib>=1.5->pymatgen>=2022.3.7->mp-api) (4.39.2)\n",
            "Requirement already satisfied: tenacity>=6.2.0 in /usr/local/lib/python3.9/dist-packages (from plotly>=4.5.0->pymatgen>=2022.3.7->mp-api) (8.2.2)\n",
            "Requirement already satisfied: PyYAML>=3.01 in /usr/local/lib/python3.9/dist-packages (from pybtex~=0.24->emmet-core>=0.39.8->mp-api) (6.0)\n",
            "Collecting latexcodec>=1.0.4\n",
            "  Downloading latexcodec-2.0.1-py2.py3-none-any.whl (18 kB)\n",
            "Requirement already satisfied: six in /usr/local/lib/python3.9/dist-packages (from pybtex~=0.24->emmet-core>=0.39.8->mp-api) (1.16.0)\n",
            "Collecting ruamel.yaml.clib>=0.2.6\n",
            "  Downloading ruamel.yaml.clib-0.2.7-cp39-cp39-manylinux_2_17_x86_64.manylinux2014_x86_64.manylinux_2_24_x86_64.whl (519 kB)\n",
            "\u001b[2K     \u001b[90m━━━━━━━━━━━━━━━━━━━━━━━━━━━━━━━━━━━━━━\u001b[0m \u001b[32m519.4/519.4 KB\u001b[0m \u001b[31m46.3 MB/s\u001b[0m eta \u001b[36m0:00:00\u001b[0m\n",
            "\u001b[?25hRequirement already satisfied: future in /usr/local/lib/python3.9/dist-packages (from uncertainties>=3.1.4->pymatgen>=2022.3.7->mp-api) (0.18.3)\n",
            "Requirement already satisfied: pytz>=2020.1 in /usr/local/lib/python3.9/dist-packages (from pandas->pymatgen>=2022.3.7->mp-api) (2022.7.1)\n",
            "Requirement already satisfied: mpmath>=0.19 in /usr/local/lib/python3.9/dist-packages (from sympy->pymatgen>=2022.3.7->mp-api) (1.3.0)\n",
            "Requirement already satisfied: zipp>=3.1.0 in /usr/local/lib/python3.9/dist-packages (from importlib-resources>=3.2.0->matplotlib>=1.5->pymatgen>=2022.3.7->mp-api) (3.15.0)\n",
            "Installing collected packages: uncertainties, spglib, ruamel.yaml.clib, monty, latexcodec, ruamel.yaml, pybtex, pymatgen, emmet-core, mp-api\n",
            "Successfully installed emmet-core-0.51.0 latexcodec-2.0.1 monty-2022.9.9 mp-api-0.30.10 pybtex-0.24.0 pymatgen-2023.3.23 ruamel.yaml-0.17.21 ruamel.yaml.clib-0.2.7 spglib-2.0.2 uncertainties-3.1.7\n"
          ]
        }
      ],
      "source": [
        "!pip install mp-api"
      ]
    },
    {
      "cell_type": "markdown",
      "source": [
        "## **II. Data**\n"
      ],
      "metadata": {
        "id": "2_JSm4urWaks"
      }
    },
    {
      "cell_type": "code",
      "source": [
        "from mp_api.client import MPRester\n",
        "\n",
        "# Create an instance of the MPRester class with API key\n",
        "api_key = \"2o5h5xcZkd72tk78L2JoYIhfAt7SiBA3\"\n",
        "with MPRester(api_key) as mpr:\n",
        "    # Retrieve the crystal structure data for the material with ID \"mp-641415\"\n",
        "    structure_data = mpr.get_structure_by_material_id(\"mp-641415\")\n",
        "print (structure_data)"
      ],
      "metadata": {
        "colab": {
          "base_uri": "https://localhost:8080/",
          "height": 1000,
          "referenced_widgets": [
            "ed70502eeb2f4b27b2d7e310272c5865",
            "94e791e6030241d692022d20adb04787",
            "566be747fd3a458e8bfc0d5a5cb88ee5",
            "8bf3aff72aaf4b8cac414367de7aa7fa",
            "1a706e6c12f3440287a7e8f59a0cb0f1",
            "0d17920d7c1941f98e9674dd46606846",
            "80e2f61c3bb24573917878a1b5883f35",
            "c0eb58590772452abaa3744560710c66",
            "d4929694f6a14d5d9e395f96b5650077",
            "ecaff447832a4812a65e2bb9b1289dfa",
            "7df69c2d22f34b4183037322ab50b326"
          ]
        },
        "id": "Wc8JZ1xBP9kf",
        "outputId": "9607d875-a51f-4243-f3a0-177faaa9bf93"
      },
      "execution_count": 6,
      "outputs": [
        {
          "output_type": "stream",
          "name": "stderr",
          "text": [
            "/usr/local/lib/python3.9/dist-packages/mp_api/client/mprester.py:146: UserWarning: mpcontribs-client not installed. Install the package to query MPContribs data, or construct pourbaix diagrams: 'pip install mpcontribs-client'\n",
            "  warnings.warn(\n"
          ]
        },
        {
          "output_type": "display_data",
          "data": {
            "text/plain": [
              "Retrieving MaterialsDoc documents:   0%|          | 0/1 [00:00<?, ?it/s]"
            ],
            "application/vnd.jupyter.widget-view+json": {
              "version_major": 2,
              "version_minor": 0,
              "model_id": "ed70502eeb2f4b27b2d7e310272c5865"
            }
          },
          "metadata": {}
        },
        {
          "output_type": "stream",
          "name": "stdout",
          "text": [
            "Full Formula (Pb8 W8 O32)\n",
            "Reduced Formula: PbWO4\n",
            "abc   :   7.180633   7.495824  14.839475\n",
            "angles:  60.011400  90.000000  90.000000\n",
            "pbc   :       True       True       True\n",
            "Sites (48)\n",
            "  #  SP           a         b         c    magmom\n",
            "---  ----  --------  --------  --------  --------\n",
            "  0  Pb    0.796834  0.984856  0.346013        -0\n",
            "  1  Pb    0.703166  0.984856  0.846013        -0\n",
            "  2  Pb    0.203166  0.015144  0.653987        -0\n",
            "  3  Pb    0.296834  0.015144  0.153987        -0\n",
            "  4  Pb    0.539277  0.519534  0.354399        -0\n",
            "  5  Pb    0.960723  0.519534  0.854399        -0\n",
            "  6  Pb    0.460723  0.480466  0.645601        -0\n",
            "  7  Pb    0.039277  0.480466  0.145601        -0\n",
            "  8  W     0.332694  0.997578  0.41875          0\n",
            "  9  W     0.167306  0.997578  0.91875          0\n",
            " 10  W     0.667306  0.002422  0.58125          0\n",
            " 11  W     0.832694  0.002422  0.08125          0\n",
            " 12  W     0.042195  0.433783  0.41325          0\n",
            " 13  W     0.457805  0.433783  0.91325          0\n",
            " 14  W     0.957805  0.566217  0.58675          0\n",
            " 15  W     0.542195  0.566217  0.08675          0\n",
            " 16  O     0.484092  0.821458  0.396492        -0\n",
            " 17  O     0.015908  0.821458  0.896492        -0\n",
            " 18  O     0.515908  0.178542  0.603508        -0\n",
            " 19  O     0.984092  0.178542  0.103508        -0\n",
            " 20  O     0.915717  0.409899  0.312575        -0\n",
            " 21  O     0.584283  0.409899  0.812575        -0\n",
            " 22  O     0.084283  0.590101  0.687425        -0\n",
            " 23  O     0.415717  0.590101  0.187425        -0\n",
            " 24  O     0.858127  0.587185  0.444284        -0\n",
            " 25  O     0.641873  0.587185  0.944284        -0\n",
            " 26  O     0.141873  0.412815  0.555716        -0\n",
            " 27  O     0.358127  0.412815  0.055716        -0\n",
            " 28  O     0.247993  0.152226  0.284447        -0\n",
            " 29  O     0.252007  0.152226  0.784447        -0\n",
            " 30  O     0.752007  0.847774  0.715553        -0\n",
            " 31  O     0.747993  0.847774  0.215553        -0\n",
            " 32  O     0.229903  0.222781  0.448935         0\n",
            " 33  O     0.270097  0.222781  0.948935         0\n",
            " 34  O     0.770097  0.777219  0.551065         0\n",
            " 35  O     0.729903  0.777219  0.051065         0\n",
            " 36  O     0.191316  0.647616  0.330487        -0\n",
            " 37  O     0.308684  0.647616  0.830487        -0\n",
            " 38  O     0.808684  0.352384  0.669513        -0\n",
            " 39  O     0.691316  0.352384  0.169513        -0\n",
            " 40  O     0.121708  0.832625  0.476349        -0\n",
            " 41  O     0.378292  0.832625  0.976349        -0\n",
            " 42  O     0.878292  0.167375  0.523651        -0\n",
            " 43  O     0.621708  0.167375  0.023651        -0\n",
            " 44  O     0.576717  0.139409  0.418582         0\n",
            " 45  O     0.923283  0.139409  0.918582         0\n",
            " 46  O     0.423283  0.860591  0.581418         0\n",
            " 47  O     0.076717  0.860591  0.081418         0\n"
          ]
        }
      ]
    },
    {
      "cell_type": "markdown",
      "source": [
        "## References\n",
        "\n",
        "---\n",
        "\n",
        "[1][https://iopscience.iop.org/article/10.1088/1748-0221/5/03/P03010/pdf](https://iopscience.iop.org/article/10.1088/1748-0221/5/03/P03010/pdf)\n",
        "\n",
        "[2][https://umkc-illiad-oclc-org.proxy.library.umkc.edu/illiad/illiad.dll?Action=10&Form=72&Value=524188](https://umkc-illiad-oclc-org.proxy.library.umkc.edu/illiad/illiad.dll?Action=10&Form=72&Value=524188)\n",
        "\n",
        "[3][http://cds.cern.ch/record/687201/files/note00_002.pdf](http://cds.cern.ch/record/687201/files/note00_002.pdf)\n",
        "\n",
        "[4][https://www.photonics.com/Articles/Scintillator_Detectors_with_Integrated/a57310](https://www.photonics.com/Articles/Scintillator_Detectors_with_Integrated/a57310)\n",
        "\n",
        "[5][http://jdj.mit.edu/~chrc/scintillation.html](http://jdj.mit.edu/~chrc/scintillation.html)\n",
        "\n",
        "[6][https://arxiv.org/pdf/2103.13106.pdf](https://arxiv.org/pdf/2103.13106.pdf)\n",
        "\n",
        "[7][https://www.researchgate.net/publication/241252047_Comparative_study_of_electronic_structures_and_nonproportionality_of_scintillator_materials](https://www.researchgate.net/publication/241252047_Comparative_study_of_electronic_structures_and_nonproportionality_of_scintillator_materials)\n",
        "\n",
        "[8][https://arxiv.org/ftp/arxiv/papers/1509/1509.07822.pdf](https://arxiv.org/ftp/arxiv/papers/1509/1509.07822.pdf)"
      ],
      "metadata": {
        "id": "HfbNYynnYRSc"
      }
    }
  ]
}