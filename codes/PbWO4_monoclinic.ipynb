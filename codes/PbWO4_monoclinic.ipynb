{
  "nbformat": 4,
  "nbformat_minor": 0,
  "metadata": {
    "colab": {
      "provenance": [],
      "authorship_tag": "ABX9TyPxQkmMQL/Wd4Up4VMV/Tj2",
      "include_colab_link": true
    },
    "kernelspec": {
      "name": "python3",
      "display_name": "Python 3"
    },
    "language_info": {
      "name": "python"
    },
    "widgets": {
      "application/vnd.jupyter.widget-state+json": {
        "172ad530464d48178b6e3edf7ec2b79b": {
          "model_module": "@jupyter-widgets/controls",
          "model_name": "HBoxModel",
          "model_module_version": "1.5.0",
          "state": {
            "_dom_classes": [],
            "_model_module": "@jupyter-widgets/controls",
            "_model_module_version": "1.5.0",
            "_model_name": "HBoxModel",
            "_view_count": null,
            "_view_module": "@jupyter-widgets/controls",
            "_view_module_version": "1.5.0",
            "_view_name": "HBoxView",
            "box_style": "",
            "children": [
              "IPY_MODEL_807ccbb366b34b9fbbadede834203bb4",
              "IPY_MODEL_59c227eb03564700879e6e2e5e0ac848",
              "IPY_MODEL_9e0e2982415e42aebb9d3b35630afce2"
            ],
            "layout": "IPY_MODEL_103e0a462ca64883b167fd0ba46f5fea"
          }
        },
        "807ccbb366b34b9fbbadede834203bb4": {
          "model_module": "@jupyter-widgets/controls",
          "model_name": "HTMLModel",
          "model_module_version": "1.5.0",
          "state": {
            "_dom_classes": [],
            "_model_module": "@jupyter-widgets/controls",
            "_model_module_version": "1.5.0",
            "_model_name": "HTMLModel",
            "_view_count": null,
            "_view_module": "@jupyter-widgets/controls",
            "_view_module_version": "1.5.0",
            "_view_name": "HTMLView",
            "description": "",
            "description_tooltip": null,
            "layout": "IPY_MODEL_ba96acf76b874ac189979b865a521386",
            "placeholder": "​",
            "style": "IPY_MODEL_511f294d7f7547b69007b3ce71825be1",
            "value": "Retrieving SummaryDoc documents: 100%"
          }
        },
        "59c227eb03564700879e6e2e5e0ac848": {
          "model_module": "@jupyter-widgets/controls",
          "model_name": "FloatProgressModel",
          "model_module_version": "1.5.0",
          "state": {
            "_dom_classes": [],
            "_model_module": "@jupyter-widgets/controls",
            "_model_module_version": "1.5.0",
            "_model_name": "FloatProgressModel",
            "_view_count": null,
            "_view_module": "@jupyter-widgets/controls",
            "_view_module_version": "1.5.0",
            "_view_name": "ProgressView",
            "bar_style": "success",
            "description": "",
            "description_tooltip": null,
            "layout": "IPY_MODEL_1f70d113b6a441bd8ff3ea99fdf7db7a",
            "max": 1,
            "min": 0,
            "orientation": "horizontal",
            "style": "IPY_MODEL_6a1640b8f6834bc5af77a0734e750580",
            "value": 1
          }
        },
        "9e0e2982415e42aebb9d3b35630afce2": {
          "model_module": "@jupyter-widgets/controls",
          "model_name": "HTMLModel",
          "model_module_version": "1.5.0",
          "state": {
            "_dom_classes": [],
            "_model_module": "@jupyter-widgets/controls",
            "_model_module_version": "1.5.0",
            "_model_name": "HTMLModel",
            "_view_count": null,
            "_view_module": "@jupyter-widgets/controls",
            "_view_module_version": "1.5.0",
            "_view_name": "HTMLView",
            "description": "",
            "description_tooltip": null,
            "layout": "IPY_MODEL_92f333fb707c458b83b8091d09c4283d",
            "placeholder": "​",
            "style": "IPY_MODEL_61b341d0da7e46bc8630306816a39adc",
            "value": " 1/1 [00:00&lt;00:00, 47.76it/s]"
          }
        },
        "103e0a462ca64883b167fd0ba46f5fea": {
          "model_module": "@jupyter-widgets/base",
          "model_name": "LayoutModel",
          "model_module_version": "1.2.0",
          "state": {
            "_model_module": "@jupyter-widgets/base",
            "_model_module_version": "1.2.0",
            "_model_name": "LayoutModel",
            "_view_count": null,
            "_view_module": "@jupyter-widgets/base",
            "_view_module_version": "1.2.0",
            "_view_name": "LayoutView",
            "align_content": null,
            "align_items": null,
            "align_self": null,
            "border": null,
            "bottom": null,
            "display": null,
            "flex": null,
            "flex_flow": null,
            "grid_area": null,
            "grid_auto_columns": null,
            "grid_auto_flow": null,
            "grid_auto_rows": null,
            "grid_column": null,
            "grid_gap": null,
            "grid_row": null,
            "grid_template_areas": null,
            "grid_template_columns": null,
            "grid_template_rows": null,
            "height": null,
            "justify_content": null,
            "justify_items": null,
            "left": null,
            "margin": null,
            "max_height": null,
            "max_width": null,
            "min_height": null,
            "min_width": null,
            "object_fit": null,
            "object_position": null,
            "order": null,
            "overflow": null,
            "overflow_x": null,
            "overflow_y": null,
            "padding": null,
            "right": null,
            "top": null,
            "visibility": null,
            "width": null
          }
        },
        "ba96acf76b874ac189979b865a521386": {
          "model_module": "@jupyter-widgets/base",
          "model_name": "LayoutModel",
          "model_module_version": "1.2.0",
          "state": {
            "_model_module": "@jupyter-widgets/base",
            "_model_module_version": "1.2.0",
            "_model_name": "LayoutModel",
            "_view_count": null,
            "_view_module": "@jupyter-widgets/base",
            "_view_module_version": "1.2.0",
            "_view_name": "LayoutView",
            "align_content": null,
            "align_items": null,
            "align_self": null,
            "border": null,
            "bottom": null,
            "display": null,
            "flex": null,
            "flex_flow": null,
            "grid_area": null,
            "grid_auto_columns": null,
            "grid_auto_flow": null,
            "grid_auto_rows": null,
            "grid_column": null,
            "grid_gap": null,
            "grid_row": null,
            "grid_template_areas": null,
            "grid_template_columns": null,
            "grid_template_rows": null,
            "height": null,
            "justify_content": null,
            "justify_items": null,
            "left": null,
            "margin": null,
            "max_height": null,
            "max_width": null,
            "min_height": null,
            "min_width": null,
            "object_fit": null,
            "object_position": null,
            "order": null,
            "overflow": null,
            "overflow_x": null,
            "overflow_y": null,
            "padding": null,
            "right": null,
            "top": null,
            "visibility": null,
            "width": null
          }
        },
        "511f294d7f7547b69007b3ce71825be1": {
          "model_module": "@jupyter-widgets/controls",
          "model_name": "DescriptionStyleModel",
          "model_module_version": "1.5.0",
          "state": {
            "_model_module": "@jupyter-widgets/controls",
            "_model_module_version": "1.5.0",
            "_model_name": "DescriptionStyleModel",
            "_view_count": null,
            "_view_module": "@jupyter-widgets/base",
            "_view_module_version": "1.2.0",
            "_view_name": "StyleView",
            "description_width": ""
          }
        },
        "1f70d113b6a441bd8ff3ea99fdf7db7a": {
          "model_module": "@jupyter-widgets/base",
          "model_name": "LayoutModel",
          "model_module_version": "1.2.0",
          "state": {
            "_model_module": "@jupyter-widgets/base",
            "_model_module_version": "1.2.0",
            "_model_name": "LayoutModel",
            "_view_count": null,
            "_view_module": "@jupyter-widgets/base",
            "_view_module_version": "1.2.0",
            "_view_name": "LayoutView",
            "align_content": null,
            "align_items": null,
            "align_self": null,
            "border": null,
            "bottom": null,
            "display": null,
            "flex": null,
            "flex_flow": null,
            "grid_area": null,
            "grid_auto_columns": null,
            "grid_auto_flow": null,
            "grid_auto_rows": null,
            "grid_column": null,
            "grid_gap": null,
            "grid_row": null,
            "grid_template_areas": null,
            "grid_template_columns": null,
            "grid_template_rows": null,
            "height": null,
            "justify_content": null,
            "justify_items": null,
            "left": null,
            "margin": null,
            "max_height": null,
            "max_width": null,
            "min_height": null,
            "min_width": null,
            "object_fit": null,
            "object_position": null,
            "order": null,
            "overflow": null,
            "overflow_x": null,
            "overflow_y": null,
            "padding": null,
            "right": null,
            "top": null,
            "visibility": null,
            "width": null
          }
        },
        "6a1640b8f6834bc5af77a0734e750580": {
          "model_module": "@jupyter-widgets/controls",
          "model_name": "ProgressStyleModel",
          "model_module_version": "1.5.0",
          "state": {
            "_model_module": "@jupyter-widgets/controls",
            "_model_module_version": "1.5.0",
            "_model_name": "ProgressStyleModel",
            "_view_count": null,
            "_view_module": "@jupyter-widgets/base",
            "_view_module_version": "1.2.0",
            "_view_name": "StyleView",
            "bar_color": null,
            "description_width": ""
          }
        },
        "92f333fb707c458b83b8091d09c4283d": {
          "model_module": "@jupyter-widgets/base",
          "model_name": "LayoutModel",
          "model_module_version": "1.2.0",
          "state": {
            "_model_module": "@jupyter-widgets/base",
            "_model_module_version": "1.2.0",
            "_model_name": "LayoutModel",
            "_view_count": null,
            "_view_module": "@jupyter-widgets/base",
            "_view_module_version": "1.2.0",
            "_view_name": "LayoutView",
            "align_content": null,
            "align_items": null,
            "align_self": null,
            "border": null,
            "bottom": null,
            "display": null,
            "flex": null,
            "flex_flow": null,
            "grid_area": null,
            "grid_auto_columns": null,
            "grid_auto_flow": null,
            "grid_auto_rows": null,
            "grid_column": null,
            "grid_gap": null,
            "grid_row": null,
            "grid_template_areas": null,
            "grid_template_columns": null,
            "grid_template_rows": null,
            "height": null,
            "justify_content": null,
            "justify_items": null,
            "left": null,
            "margin": null,
            "max_height": null,
            "max_width": null,
            "min_height": null,
            "min_width": null,
            "object_fit": null,
            "object_position": null,
            "order": null,
            "overflow": null,
            "overflow_x": null,
            "overflow_y": null,
            "padding": null,
            "right": null,
            "top": null,
            "visibility": null,
            "width": null
          }
        },
        "61b341d0da7e46bc8630306816a39adc": {
          "model_module": "@jupyter-widgets/controls",
          "model_name": "DescriptionStyleModel",
          "model_module_version": "1.5.0",
          "state": {
            "_model_module": "@jupyter-widgets/controls",
            "_model_module_version": "1.5.0",
            "_model_name": "DescriptionStyleModel",
            "_view_count": null,
            "_view_module": "@jupyter-widgets/base",
            "_view_module_version": "1.2.0",
            "_view_name": "StyleView",
            "description_width": ""
          }
        },
        "2c0fa32a76b145c99176ad8d9663586a": {
          "model_module": "@jupyter-widgets/controls",
          "model_name": "HBoxModel",
          "model_module_version": "1.5.0",
          "state": {
            "_dom_classes": [],
            "_model_module": "@jupyter-widgets/controls",
            "_model_module_version": "1.5.0",
            "_model_name": "HBoxModel",
            "_view_count": null,
            "_view_module": "@jupyter-widgets/controls",
            "_view_module_version": "1.5.0",
            "_view_name": "HBoxView",
            "box_style": "",
            "children": [
              "IPY_MODEL_945b1dfc96854d8e8c116c8add4c43ac",
              "IPY_MODEL_75f6f8b17da54f6da0c1671a24125036",
              "IPY_MODEL_2fd4a5b7c20d4f41b4f0d386c9eb6a83"
            ],
            "layout": "IPY_MODEL_49665686959349d3a92b57830c35a08c"
          }
        },
        "945b1dfc96854d8e8c116c8add4c43ac": {
          "model_module": "@jupyter-widgets/controls",
          "model_name": "HTMLModel",
          "model_module_version": "1.5.0",
          "state": {
            "_dom_classes": [],
            "_model_module": "@jupyter-widgets/controls",
            "_model_module_version": "1.5.0",
            "_model_name": "HTMLModel",
            "_view_count": null,
            "_view_module": "@jupyter-widgets/controls",
            "_view_module_version": "1.5.0",
            "_view_name": "HTMLView",
            "description": "",
            "description_tooltip": null,
            "layout": "IPY_MODEL_066aa152b523443e99b27ac2825bd9ba",
            "placeholder": "​",
            "style": "IPY_MODEL_186bd14115714b8cb486ed5ff007ad5a",
            "value": "Retrieving MaterialsDoc documents: 100%"
          }
        },
        "75f6f8b17da54f6da0c1671a24125036": {
          "model_module": "@jupyter-widgets/controls",
          "model_name": "FloatProgressModel",
          "model_module_version": "1.5.0",
          "state": {
            "_dom_classes": [],
            "_model_module": "@jupyter-widgets/controls",
            "_model_module_version": "1.5.0",
            "_model_name": "FloatProgressModel",
            "_view_count": null,
            "_view_module": "@jupyter-widgets/controls",
            "_view_module_version": "1.5.0",
            "_view_name": "ProgressView",
            "bar_style": "success",
            "description": "",
            "description_tooltip": null,
            "layout": "IPY_MODEL_9dd7c67aade3452ca1b5faab3a9c2ba5",
            "max": 1,
            "min": 0,
            "orientation": "horizontal",
            "style": "IPY_MODEL_95063f74c7a1449ea9f915aeec4e2be0",
            "value": 1
          }
        },
        "2fd4a5b7c20d4f41b4f0d386c9eb6a83": {
          "model_module": "@jupyter-widgets/controls",
          "model_name": "HTMLModel",
          "model_module_version": "1.5.0",
          "state": {
            "_dom_classes": [],
            "_model_module": "@jupyter-widgets/controls",
            "_model_module_version": "1.5.0",
            "_model_name": "HTMLModel",
            "_view_count": null,
            "_view_module": "@jupyter-widgets/controls",
            "_view_module_version": "1.5.0",
            "_view_name": "HTMLView",
            "description": "",
            "description_tooltip": null,
            "layout": "IPY_MODEL_c209b015e30943e58d7b4d10ea9e972d",
            "placeholder": "​",
            "style": "IPY_MODEL_d438fe5eb715424883d78e836a931709",
            "value": " 1/1 [00:00&lt;00:00, 63.43it/s]"
          }
        },
        "49665686959349d3a92b57830c35a08c": {
          "model_module": "@jupyter-widgets/base",
          "model_name": "LayoutModel",
          "model_module_version": "1.2.0",
          "state": {
            "_model_module": "@jupyter-widgets/base",
            "_model_module_version": "1.2.0",
            "_model_name": "LayoutModel",
            "_view_count": null,
            "_view_module": "@jupyter-widgets/base",
            "_view_module_version": "1.2.0",
            "_view_name": "LayoutView",
            "align_content": null,
            "align_items": null,
            "align_self": null,
            "border": null,
            "bottom": null,
            "display": null,
            "flex": null,
            "flex_flow": null,
            "grid_area": null,
            "grid_auto_columns": null,
            "grid_auto_flow": null,
            "grid_auto_rows": null,
            "grid_column": null,
            "grid_gap": null,
            "grid_row": null,
            "grid_template_areas": null,
            "grid_template_columns": null,
            "grid_template_rows": null,
            "height": null,
            "justify_content": null,
            "justify_items": null,
            "left": null,
            "margin": null,
            "max_height": null,
            "max_width": null,
            "min_height": null,
            "min_width": null,
            "object_fit": null,
            "object_position": null,
            "order": null,
            "overflow": null,
            "overflow_x": null,
            "overflow_y": null,
            "padding": null,
            "right": null,
            "top": null,
            "visibility": null,
            "width": null
          }
        },
        "066aa152b523443e99b27ac2825bd9ba": {
          "model_module": "@jupyter-widgets/base",
          "model_name": "LayoutModel",
          "model_module_version": "1.2.0",
          "state": {
            "_model_module": "@jupyter-widgets/base",
            "_model_module_version": "1.2.0",
            "_model_name": "LayoutModel",
            "_view_count": null,
            "_view_module": "@jupyter-widgets/base",
            "_view_module_version": "1.2.0",
            "_view_name": "LayoutView",
            "align_content": null,
            "align_items": null,
            "align_self": null,
            "border": null,
            "bottom": null,
            "display": null,
            "flex": null,
            "flex_flow": null,
            "grid_area": null,
            "grid_auto_columns": null,
            "grid_auto_flow": null,
            "grid_auto_rows": null,
            "grid_column": null,
            "grid_gap": null,
            "grid_row": null,
            "grid_template_areas": null,
            "grid_template_columns": null,
            "grid_template_rows": null,
            "height": null,
            "justify_content": null,
            "justify_items": null,
            "left": null,
            "margin": null,
            "max_height": null,
            "max_width": null,
            "min_height": null,
            "min_width": null,
            "object_fit": null,
            "object_position": null,
            "order": null,
            "overflow": null,
            "overflow_x": null,
            "overflow_y": null,
            "padding": null,
            "right": null,
            "top": null,
            "visibility": null,
            "width": null
          }
        },
        "186bd14115714b8cb486ed5ff007ad5a": {
          "model_module": "@jupyter-widgets/controls",
          "model_name": "DescriptionStyleModel",
          "model_module_version": "1.5.0",
          "state": {
            "_model_module": "@jupyter-widgets/controls",
            "_model_module_version": "1.5.0",
            "_model_name": "DescriptionStyleModel",
            "_view_count": null,
            "_view_module": "@jupyter-widgets/base",
            "_view_module_version": "1.2.0",
            "_view_name": "StyleView",
            "description_width": ""
          }
        },
        "9dd7c67aade3452ca1b5faab3a9c2ba5": {
          "model_module": "@jupyter-widgets/base",
          "model_name": "LayoutModel",
          "model_module_version": "1.2.0",
          "state": {
            "_model_module": "@jupyter-widgets/base",
            "_model_module_version": "1.2.0",
            "_model_name": "LayoutModel",
            "_view_count": null,
            "_view_module": "@jupyter-widgets/base",
            "_view_module_version": "1.2.0",
            "_view_name": "LayoutView",
            "align_content": null,
            "align_items": null,
            "align_self": null,
            "border": null,
            "bottom": null,
            "display": null,
            "flex": null,
            "flex_flow": null,
            "grid_area": null,
            "grid_auto_columns": null,
            "grid_auto_flow": null,
            "grid_auto_rows": null,
            "grid_column": null,
            "grid_gap": null,
            "grid_row": null,
            "grid_template_areas": null,
            "grid_template_columns": null,
            "grid_template_rows": null,
            "height": null,
            "justify_content": null,
            "justify_items": null,
            "left": null,
            "margin": null,
            "max_height": null,
            "max_width": null,
            "min_height": null,
            "min_width": null,
            "object_fit": null,
            "object_position": null,
            "order": null,
            "overflow": null,
            "overflow_x": null,
            "overflow_y": null,
            "padding": null,
            "right": null,
            "top": null,
            "visibility": null,
            "width": null
          }
        },
        "95063f74c7a1449ea9f915aeec4e2be0": {
          "model_module": "@jupyter-widgets/controls",
          "model_name": "ProgressStyleModel",
          "model_module_version": "1.5.0",
          "state": {
            "_model_module": "@jupyter-widgets/controls",
            "_model_module_version": "1.5.0",
            "_model_name": "ProgressStyleModel",
            "_view_count": null,
            "_view_module": "@jupyter-widgets/base",
            "_view_module_version": "1.2.0",
            "_view_name": "StyleView",
            "bar_color": null,
            "description_width": ""
          }
        },
        "c209b015e30943e58d7b4d10ea9e972d": {
          "model_module": "@jupyter-widgets/base",
          "model_name": "LayoutModel",
          "model_module_version": "1.2.0",
          "state": {
            "_model_module": "@jupyter-widgets/base",
            "_model_module_version": "1.2.0",
            "_model_name": "LayoutModel",
            "_view_count": null,
            "_view_module": "@jupyter-widgets/base",
            "_view_module_version": "1.2.0",
            "_view_name": "LayoutView",
            "align_content": null,
            "align_items": null,
            "align_self": null,
            "border": null,
            "bottom": null,
            "display": null,
            "flex": null,
            "flex_flow": null,
            "grid_area": null,
            "grid_auto_columns": null,
            "grid_auto_flow": null,
            "grid_auto_rows": null,
            "grid_column": null,
            "grid_gap": null,
            "grid_row": null,
            "grid_template_areas": null,
            "grid_template_columns": null,
            "grid_template_rows": null,
            "height": null,
            "justify_content": null,
            "justify_items": null,
            "left": null,
            "margin": null,
            "max_height": null,
            "max_width": null,
            "min_height": null,
            "min_width": null,
            "object_fit": null,
            "object_position": null,
            "order": null,
            "overflow": null,
            "overflow_x": null,
            "overflow_y": null,
            "padding": null,
            "right": null,
            "top": null,
            "visibility": null,
            "width": null
          }
        },
        "d438fe5eb715424883d78e836a931709": {
          "model_module": "@jupyter-widgets/controls",
          "model_name": "DescriptionStyleModel",
          "model_module_version": "1.5.0",
          "state": {
            "_model_module": "@jupyter-widgets/controls",
            "_model_module_version": "1.5.0",
            "_model_name": "DescriptionStyleModel",
            "_view_count": null,
            "_view_module": "@jupyter-widgets/base",
            "_view_module_version": "1.2.0",
            "_view_name": "StyleView",
            "description_width": ""
          }
        }
      }
    }
  },
  "cells": [
    {
      "cell_type": "markdown",
      "metadata": {
        "id": "view-in-github",
        "colab_type": "text"
      },
      "source": [
        "<a href=\"https://colab.research.google.com/github/dtht2d/scintilator/blob/main/codes/PbWO4_monoclinic.ipynb\" target=\"_parent\"><img src=\"https://colab.research.google.com/assets/colab-badge.svg\" alt=\"Open In Colab\"/></a>"
      ]
    },
    {
      "cell_type": "markdown",
      "source": [
        "# **Electronic Structure of  $\\text{PbWO}_4$ and optical properties of Scintillator Materials** \n",
        "---"
      ],
      "metadata": {
        "id": "SGm9R0apXups"
      }
    },
    {
      "cell_type": "code",
      "source": [
        "%autosave 30"
      ],
      "metadata": {
        "id": "2teACzJy7rX5",
        "outputId": "517f70ff-1ee2-474d-8b0b-6aa7b5e3cde1",
        "colab": {
          "base_uri": "https://localhost:8080/",
          "height": 35
        }
      },
      "execution_count": null,
      "outputs": [
        {
          "output_type": "display_data",
          "data": {
            "application/javascript": [
              "IPython.notebook.set_autosave_interval(30000)"
            ]
          },
          "metadata": {}
        },
        {
          "output_type": "stream",
          "name": "stdout",
          "text": [
            "Autosaving every 30 seconds\n"
          ]
        }
      ]
    },
    {
      "cell_type": "markdown",
      "source": [
        "## Abstract"
      ],
      "metadata": {
        "id": "qXR_2qZ8aezI"
      }
    },
    {
      "cell_type": "markdown",
      "source": [
        "## Objectives\n"
      ],
      "metadata": {
        "id": "74VKR-jBaVWW"
      }
    },
    {
      "cell_type": "markdown",
      "source": [
        "\n",
        "Study the electronic structure and optical properties of $\\text{PbWO}_4$\n",
        "\n",
        "What makes Lead Tungstate (PbWO4) crystal a popular choice as a detector material in high energy physics devices, such as the CMS detector at CERN?\n",
        "\n",
        "Is its quick decay time, high density, and strong resistance to radiation. Its unique properties also make it a promising material for use in medical devices. In addition, it is widely used in photonics applications due to its stable physical and chemical properties and exceptional optical properties.\n",
        "\n",
        "Study the principle of nano-photonics and how we can integrate nano-photonics with traditional scintillator materials to improve the development of radiation detection"
      ],
      "metadata": {
        "id": "CA0DXezrXjgq"
      }
    },
    {
      "cell_type": "markdown",
      "source": [
        "### Install packages"
      ],
      "metadata": {
        "id": "-fivBTUGXMtD"
      }
    },
    {
      "cell_type": "code",
      "execution_count": 2,
      "metadata": {
        "id": "nS6C96UQfbUu",
        "colab": {
          "base_uri": "https://localhost:8080/"
        },
        "outputId": "55f28e3b-cfb8-41b2-f89e-aaabba291422"
      },
      "outputs": [
        {
          "output_type": "stream",
          "name": "stdout",
          "text": [
            "Looking in indexes: https://pypi.org/simple, https://us-python.pkg.dev/colab-wheels/public/simple/\n",
            "Collecting mp-api\n",
            "  Downloading mp_api-0.30.10-py3-none-any.whl (71 kB)\n",
            "\u001b[2K     \u001b[90m━━━━━━━━━━━━━━━━━━━━━━━━━━━━━━━━━━━━━━━━\u001b[0m \u001b[32m71.4/71.4 KB\u001b[0m \u001b[31m10.0 MB/s\u001b[0m eta \u001b[36m0:00:00\u001b[0m\n",
            "\u001b[?25hRequirement already satisfied: setuptools in /usr/local/lib/python3.9/dist-packages (from mp-api) (67.6.0)\n",
            "Collecting pymatgen>=2022.3.7\n",
            "  Downloading pymatgen-2023.3.23-cp39-cp39-manylinux_2_17_x86_64.manylinux2014_x86_64.whl (12.4 MB)\n",
            "\u001b[2K     \u001b[90m━━━━━━━━━━━━━━━━━━━━━━━━━━━━━━━━━━━━━━━━\u001b[0m \u001b[32m12.4/12.4 MB\u001b[0m \u001b[31m91.7 MB/s\u001b[0m eta \u001b[36m0:00:00\u001b[0m\n",
            "\u001b[?25hCollecting emmet-core>=0.39.8\n",
            "  Downloading emmet_core-0.51.0-py3-none-any.whl (151 kB)\n",
            "\u001b[2K     \u001b[90m━━━━━━━━━━━━━━━━━━━━━━━━━━━━━━━━━━━━━━\u001b[0m \u001b[32m151.0/151.0 KB\u001b[0m \u001b[31m21.3 MB/s\u001b[0m eta \u001b[36m0:00:00\u001b[0m\n",
            "\u001b[?25hRequirement already satisfied: requests>=2.23.0 in /usr/local/lib/python3.9/dist-packages (from mp-api) (2.27.1)\n",
            "Requirement already satisfied: typing-extensions>=3.7.4.1 in /usr/local/lib/python3.9/dist-packages (from mp-api) (4.5.0)\n",
            "Requirement already satisfied: msgpack in /usr/local/lib/python3.9/dist-packages (from mp-api) (1.0.5)\n",
            "Collecting monty>=2021.3.12\n",
            "  Downloading monty-2022.9.9-py3-none-any.whl (66 kB)\n",
            "\u001b[2K     \u001b[90m━━━━━━━━━━━━━━━━━━━━━━━━━━━━━━━━━━━━━━━━\u001b[0m \u001b[32m66.9/66.9 KB\u001b[0m \u001b[31m9.5 MB/s\u001b[0m eta \u001b[36m0:00:00\u001b[0m\n",
            "\u001b[?25hCollecting spglib>=2.0.1\n",
            "  Downloading spglib-2.0.2-cp39-cp39-manylinux_2_17_x86_64.manylinux2014_x86_64.whl (515 kB)\n",
            "\u001b[2K     \u001b[90m━━━━━━━━━━━━━━━━━━━━━━━━━━━━━━━━━━━━━━\u001b[0m \u001b[32m515.0/515.0 KB\u001b[0m \u001b[31m38.5 MB/s\u001b[0m eta \u001b[36m0:00:00\u001b[0m\n",
            "\u001b[?25hCollecting pybtex~=0.24\n",
            "  Downloading pybtex-0.24.0-py2.py3-none-any.whl (561 kB)\n",
            "\u001b[2K     \u001b[90m━━━━━━━━━━━━━━━━━━━━━━━━━━━━━━━━━━━━━━\u001b[0m \u001b[32m561.4/561.4 KB\u001b[0m \u001b[31m33.1 MB/s\u001b[0m eta \u001b[36m0:00:00\u001b[0m\n",
            "\u001b[?25hRequirement already satisfied: pydantic>=1.10.2 in /usr/local/lib/python3.9/dist-packages (from emmet-core>=0.39.8->mp-api) (1.10.6)\n",
            "Requirement already satisfied: tqdm in /usr/local/lib/python3.9/dist-packages (from pymatgen>=2022.3.7->mp-api) (4.65.0)\n",
            "Requirement already satisfied: plotly>=4.5.0 in /usr/local/lib/python3.9/dist-packages (from pymatgen>=2022.3.7->mp-api) (5.13.1)\n",
            "Requirement already satisfied: scipy>=1.5.0 in /usr/local/lib/python3.9/dist-packages (from pymatgen>=2022.3.7->mp-api) (1.10.1)\n",
            "Requirement already satisfied: pandas in /usr/local/lib/python3.9/dist-packages (from pymatgen>=2022.3.7->mp-api) (1.4.4)\n",
            "Requirement already satisfied: numpy>=1.20.1 in /usr/local/lib/python3.9/dist-packages (from pymatgen>=2022.3.7->mp-api) (1.22.4)\n",
            "Requirement already satisfied: palettable>=3.1.1 in /usr/local/lib/python3.9/dist-packages (from pymatgen>=2022.3.7->mp-api) (3.3.0)\n",
            "Requirement already satisfied: matplotlib>=1.5 in /usr/local/lib/python3.9/dist-packages (from pymatgen>=2022.3.7->mp-api) (3.7.1)\n",
            "Requirement already satisfied: sympy in /usr/local/lib/python3.9/dist-packages (from pymatgen>=2022.3.7->mp-api) (1.11.1)\n",
            "Collecting uncertainties>=3.1.4\n",
            "  Downloading uncertainties-3.1.7-py2.py3-none-any.whl (98 kB)\n",
            "\u001b[2K     \u001b[90m━━━━━━━━━━━━━━━━━━━━━━━━━━━━━━━━━━━━━━━━\u001b[0m \u001b[32m98.4/98.4 KB\u001b[0m \u001b[31m13.9 MB/s\u001b[0m eta \u001b[36m0:00:00\u001b[0m\n",
            "\u001b[?25hCollecting ruamel.yaml>=0.17.0\n",
            "  Downloading ruamel.yaml-0.17.21-py3-none-any.whl (109 kB)\n",
            "\u001b[2K     \u001b[90m━━━━━━━━━━━━━━━━━━━━━━━━━━━━━━━━━━━━━━\u001b[0m \u001b[32m109.5/109.5 KB\u001b[0m \u001b[31m13.7 MB/s\u001b[0m eta \u001b[36m0:00:00\u001b[0m\n",
            "\u001b[?25hRequirement already satisfied: tabulate in /usr/local/lib/python3.9/dist-packages (from pymatgen>=2022.3.7->mp-api) (0.8.10)\n",
            "Requirement already satisfied: networkx>=2.2 in /usr/local/lib/python3.9/dist-packages (from pymatgen>=2022.3.7->mp-api) (3.0)\n",
            "Requirement already satisfied: charset-normalizer~=2.0.0 in /usr/local/lib/python3.9/dist-packages (from requests>=2.23.0->mp-api) (2.0.12)\n",
            "Requirement already satisfied: idna<4,>=2.5 in /usr/local/lib/python3.9/dist-packages (from requests>=2.23.0->mp-api) (3.4)\n",
            "Requirement already satisfied: certifi>=2017.4.17 in /usr/local/lib/python3.9/dist-packages (from requests>=2.23.0->mp-api) (2022.12.7)\n",
            "Requirement already satisfied: urllib3<1.27,>=1.21.1 in /usr/local/lib/python3.9/dist-packages (from requests>=2.23.0->mp-api) (1.26.15)\n",
            "Requirement already satisfied: importlib-resources>=3.2.0 in /usr/local/lib/python3.9/dist-packages (from matplotlib>=1.5->pymatgen>=2022.3.7->mp-api) (5.12.0)\n",
            "Requirement already satisfied: contourpy>=1.0.1 in /usr/local/lib/python3.9/dist-packages (from matplotlib>=1.5->pymatgen>=2022.3.7->mp-api) (1.0.7)\n",
            "Requirement already satisfied: cycler>=0.10 in /usr/local/lib/python3.9/dist-packages (from matplotlib>=1.5->pymatgen>=2022.3.7->mp-api) (0.11.0)\n",
            "Requirement already satisfied: packaging>=20.0 in /usr/local/lib/python3.9/dist-packages (from matplotlib>=1.5->pymatgen>=2022.3.7->mp-api) (23.0)\n",
            "Requirement already satisfied: pyparsing>=2.3.1 in /usr/local/lib/python3.9/dist-packages (from matplotlib>=1.5->pymatgen>=2022.3.7->mp-api) (3.0.9)\n",
            "Requirement already satisfied: kiwisolver>=1.0.1 in /usr/local/lib/python3.9/dist-packages (from matplotlib>=1.5->pymatgen>=2022.3.7->mp-api) (1.4.4)\n",
            "Requirement already satisfied: pillow>=6.2.0 in /usr/local/lib/python3.9/dist-packages (from matplotlib>=1.5->pymatgen>=2022.3.7->mp-api) (8.4.0)\n",
            "Requirement already satisfied: python-dateutil>=2.7 in /usr/local/lib/python3.9/dist-packages (from matplotlib>=1.5->pymatgen>=2022.3.7->mp-api) (2.8.2)\n",
            "Requirement already satisfied: fonttools>=4.22.0 in /usr/local/lib/python3.9/dist-packages (from matplotlib>=1.5->pymatgen>=2022.3.7->mp-api) (4.39.2)\n",
            "Requirement already satisfied: tenacity>=6.2.0 in /usr/local/lib/python3.9/dist-packages (from plotly>=4.5.0->pymatgen>=2022.3.7->mp-api) (8.2.2)\n",
            "Requirement already satisfied: PyYAML>=3.01 in /usr/local/lib/python3.9/dist-packages (from pybtex~=0.24->emmet-core>=0.39.8->mp-api) (6.0)\n",
            "Collecting latexcodec>=1.0.4\n",
            "  Downloading latexcodec-2.0.1-py2.py3-none-any.whl (18 kB)\n",
            "Requirement already satisfied: six in /usr/local/lib/python3.9/dist-packages (from pybtex~=0.24->emmet-core>=0.39.8->mp-api) (1.16.0)\n",
            "Collecting ruamel.yaml.clib>=0.2.6\n",
            "  Downloading ruamel.yaml.clib-0.2.7-cp39-cp39-manylinux_2_17_x86_64.manylinux2014_x86_64.manylinux_2_24_x86_64.whl (519 kB)\n",
            "\u001b[2K     \u001b[90m━━━━━━━━━━━━━━━━━━━━━━━━━━━━━━━━━━━━━━\u001b[0m \u001b[32m519.4/519.4 KB\u001b[0m \u001b[31m46.3 MB/s\u001b[0m eta \u001b[36m0:00:00\u001b[0m\n",
            "\u001b[?25hRequirement already satisfied: future in /usr/local/lib/python3.9/dist-packages (from uncertainties>=3.1.4->pymatgen>=2022.3.7->mp-api) (0.18.3)\n",
            "Requirement already satisfied: pytz>=2020.1 in /usr/local/lib/python3.9/dist-packages (from pandas->pymatgen>=2022.3.7->mp-api) (2022.7.1)\n",
            "Requirement already satisfied: mpmath>=0.19 in /usr/local/lib/python3.9/dist-packages (from sympy->pymatgen>=2022.3.7->mp-api) (1.3.0)\n",
            "Requirement already satisfied: zipp>=3.1.0 in /usr/local/lib/python3.9/dist-packages (from importlib-resources>=3.2.0->matplotlib>=1.5->pymatgen>=2022.3.7->mp-api) (3.15.0)\n",
            "Installing collected packages: uncertainties, spglib, ruamel.yaml.clib, monty, latexcodec, ruamel.yaml, pybtex, pymatgen, emmet-core, mp-api\n",
            "Successfully installed emmet-core-0.51.0 latexcodec-2.0.1 monty-2022.9.9 mp-api-0.30.10 pybtex-0.24.0 pymatgen-2023.3.23 ruamel.yaml-0.17.21 ruamel.yaml.clib-0.2.7 spglib-2.0.2 uncertainties-3.1.7\n"
          ]
        }
      ],
      "source": [
        "!pip install mp-api"
      ]
    },
    {
      "cell_type": "markdown",
      "source": [
        "## **I. Background**\n",
        "---\n"
      ],
      "metadata": {
        "id": "avKE9WgBZ1EZ"
      }
    },
    {
      "cell_type": "markdown",
      "source": [
        "## **II. Computational Methods**\n",
        "---\n"
      ],
      "metadata": {
        "id": "2_JSm4urWaks"
      }
    },
    {
      "cell_type": "markdown",
      "source": [
        "## **1. Data**"
      ],
      "metadata": {
        "id": "dO6q12hXZb-2"
      }
    },
    {
      "cell_type": "code",
      "source": [
        "from mp_api.client import MPRester\n",
        "\n",
        "# Create an instance of the MPRester class with API key\n",
        "api_key = \"2o5h5xcZkd72tk78L2JoYIhfAt7SiBA3\"\n",
        "with MPRester(api_key) as mpr:\n",
        "    docs = mpr.summary.search(material_ids=[\"mp-641415\"], fields=[\"structure\"])\n",
        "    # Retrieve the crystal structure data for the material with ID \"mp-641415\"\n",
        "    structure_data = mpr.get_structure_by_material_id(\"mp-641415\")\n",
        "print (structure_data)\n"
      ],
      "metadata": {
        "colab": {
          "base_uri": "https://localhost:8080/",
          "height": 1000,
          "referenced_widgets": [
            "172ad530464d48178b6e3edf7ec2b79b",
            "807ccbb366b34b9fbbadede834203bb4",
            "59c227eb03564700879e6e2e5e0ac848",
            "9e0e2982415e42aebb9d3b35630afce2",
            "103e0a462ca64883b167fd0ba46f5fea",
            "ba96acf76b874ac189979b865a521386",
            "511f294d7f7547b69007b3ce71825be1",
            "1f70d113b6a441bd8ff3ea99fdf7db7a",
            "6a1640b8f6834bc5af77a0734e750580",
            "92f333fb707c458b83b8091d09c4283d",
            "61b341d0da7e46bc8630306816a39adc",
            "2c0fa32a76b145c99176ad8d9663586a",
            "945b1dfc96854d8e8c116c8add4c43ac",
            "75f6f8b17da54f6da0c1671a24125036",
            "2fd4a5b7c20d4f41b4f0d386c9eb6a83",
            "49665686959349d3a92b57830c35a08c",
            "066aa152b523443e99b27ac2825bd9ba",
            "186bd14115714b8cb486ed5ff007ad5a",
            "9dd7c67aade3452ca1b5faab3a9c2ba5",
            "95063f74c7a1449ea9f915aeec4e2be0",
            "c209b015e30943e58d7b4d10ea9e972d",
            "d438fe5eb715424883d78e836a931709"
          ]
        },
        "id": "Wc8JZ1xBP9kf",
        "outputId": "8a2f706f-f0d9-4d79-9fc0-11a889e116c3"
      },
      "execution_count": 10,
      "outputs": [
        {
          "output_type": "stream",
          "name": "stderr",
          "text": [
            "/usr/local/lib/python3.9/dist-packages/mp_api/client/mprester.py:146: UserWarning: mpcontribs-client not installed. Install the package to query MPContribs data, or construct pourbaix diagrams: 'pip install mpcontribs-client'\n",
            "  warnings.warn(\n"
          ]
        },
        {
          "output_type": "display_data",
          "data": {
            "text/plain": [
              "Retrieving SummaryDoc documents:   0%|          | 0/1 [00:00<?, ?it/s]"
            ],
            "application/vnd.jupyter.widget-view+json": {
              "version_major": 2,
              "version_minor": 0,
              "model_id": "172ad530464d48178b6e3edf7ec2b79b"
            }
          },
          "metadata": {}
        },
        {
          "output_type": "display_data",
          "data": {
            "text/plain": [
              "Retrieving MaterialsDoc documents:   0%|          | 0/1 [00:00<?, ?it/s]"
            ],
            "application/vnd.jupyter.widget-view+json": {
              "version_major": 2,
              "version_minor": 0,
              "model_id": "2c0fa32a76b145c99176ad8d9663586a"
            }
          },
          "metadata": {}
        },
        {
          "output_type": "stream",
          "name": "stdout",
          "text": [
            "Full Formula (Pb8 W8 O32)\n",
            "Reduced Formula: PbWO4\n",
            "abc   :   7.180633   7.495824  14.839475\n",
            "angles:  60.011400  90.000000  90.000000\n",
            "pbc   :       True       True       True\n",
            "Sites (48)\n",
            "  #  SP           a         b         c    magmom\n",
            "---  ----  --------  --------  --------  --------\n",
            "  0  Pb    0.796834  0.984856  0.346013        -0\n",
            "  1  Pb    0.703166  0.984856  0.846013        -0\n",
            "  2  Pb    0.203166  0.015144  0.653987        -0\n",
            "  3  Pb    0.296834  0.015144  0.153987        -0\n",
            "  4  Pb    0.539277  0.519534  0.354399        -0\n",
            "  5  Pb    0.960723  0.519534  0.854399        -0\n",
            "  6  Pb    0.460723  0.480466  0.645601        -0\n",
            "  7  Pb    0.039277  0.480466  0.145601        -0\n",
            "  8  W     0.332694  0.997578  0.41875          0\n",
            "  9  W     0.167306  0.997578  0.91875          0\n",
            " 10  W     0.667306  0.002422  0.58125          0\n",
            " 11  W     0.832694  0.002422  0.08125          0\n",
            " 12  W     0.042195  0.433783  0.41325          0\n",
            " 13  W     0.457805  0.433783  0.91325          0\n",
            " 14  W     0.957805  0.566217  0.58675          0\n",
            " 15  W     0.542195  0.566217  0.08675          0\n",
            " 16  O     0.484092  0.821458  0.396492        -0\n",
            " 17  O     0.015908  0.821458  0.896492        -0\n",
            " 18  O     0.515908  0.178542  0.603508        -0\n",
            " 19  O     0.984092  0.178542  0.103508        -0\n",
            " 20  O     0.915717  0.409899  0.312575        -0\n",
            " 21  O     0.584283  0.409899  0.812575        -0\n",
            " 22  O     0.084283  0.590101  0.687425        -0\n",
            " 23  O     0.415717  0.590101  0.187425        -0\n",
            " 24  O     0.858127  0.587185  0.444284        -0\n",
            " 25  O     0.641873  0.587185  0.944284        -0\n",
            " 26  O     0.141873  0.412815  0.555716        -0\n",
            " 27  O     0.358127  0.412815  0.055716        -0\n",
            " 28  O     0.247993  0.152226  0.284447        -0\n",
            " 29  O     0.252007  0.152226  0.784447        -0\n",
            " 30  O     0.752007  0.847774  0.715553        -0\n",
            " 31  O     0.747993  0.847774  0.215553        -0\n",
            " 32  O     0.229903  0.222781  0.448935         0\n",
            " 33  O     0.270097  0.222781  0.948935         0\n",
            " 34  O     0.770097  0.777219  0.551065         0\n",
            " 35  O     0.729903  0.777219  0.051065         0\n",
            " 36  O     0.191316  0.647616  0.330487        -0\n",
            " 37  O     0.308684  0.647616  0.830487        -0\n",
            " 38  O     0.808684  0.352384  0.669513        -0\n",
            " 39  O     0.691316  0.352384  0.169513        -0\n",
            " 40  O     0.121708  0.832625  0.476349        -0\n",
            " 41  O     0.378292  0.832625  0.976349        -0\n",
            " 42  O     0.878292  0.167375  0.523651        -0\n",
            " 43  O     0.621708  0.167375  0.023651        -0\n",
            " 44  O     0.576717  0.139409  0.418582         0\n",
            " 45  O     0.923283  0.139409  0.918582         0\n",
            " 46  O     0.423283  0.860591  0.581418         0\n",
            " 47  O     0.076717  0.860591  0.081418         0\n"
          ]
        }
      ]
    },
    {
      "cell_type": "code",
      "source": [
        "print (docs)"
      ],
      "metadata": {
        "id": "DA8ZUYKYg6Nf",
        "outputId": "cabd0c83-589c-47f0-dc00-3716deeb160a",
        "colab": {
          "base_uri": "https://localhost:8080/"
        }
      },
      "execution_count": 11,
      "outputs": [
        {
          "output_type": "stream",
          "name": "stdout",
          "text": [
            "[\u001b[4m\u001b[1mMPDataDoc<SummaryDoc>\u001b[0;0m\u001b[0;0m(\n",
            "\u001b[1mstructure\u001b[0;0m=Structure Summary\n",
            "Lattice\n",
            "    abc : 7.180633 7.495824 14.839474512483385\n",
            " angles : 60.01140047072706 90.0 90.0\n",
            " volume : 691.8009357914264\n",
            "      A : 7.180633 0.0 0.0\n",
            "      B : 0.0 7.495824 0.0\n",
            "      C : 0.0 7.41718 12.852838\n",
            "    pbc : True True True\n",
            "PeriodicSite: Pb (5.7218, 9.9487, 4.4472) [0.7968, 0.9849, 0.3460]\n",
            "PeriodicSite: Pb (5.0492, 13.6573, 10.8737) [0.7032, 0.9849, 0.8460]\n",
            "PeriodicSite: Pb (1.4589, 4.9643, 8.4056) [0.2032, 0.0151, 0.6540]\n",
            "PeriodicSite: Pb (2.1315, 1.2557, 1.9792) [0.2968, 0.0151, 0.1540]\n",
            "PeriodicSite: Pb (3.8724, 6.5230, 4.5550) [0.5393, 0.5195, 0.3544]\n",
            "PeriodicSite: Pb (6.8986, 10.2316, 10.9815) [0.9607, 0.5195, 0.8544]\n",
            "PeriodicSite: Pb (3.3083, 8.3900, 8.2978) [0.4607, 0.4805, 0.6456]\n",
            "PeriodicSite: Pb (0.2820, 4.6814, 1.8714) [0.0393, 0.4805, 0.1456]\n",
            "PeriodicSite: W (2.3890, 10.5836, 5.3821) [0.3327, 0.9976, 0.4188]\n",
            "PeriodicSite: W (1.2014, 14.2922, 11.8085) [0.1673, 0.9976, 0.9187]\n",
            "PeriodicSite: W (4.7917, 4.3294, 7.4707) [0.6673, 0.0024, 0.5813]\n",
            "PeriodicSite: W (5.9793, 0.6208, 1.0443) [0.8327, 0.0024, 0.0813]\n",
            "PeriodicSite: W (0.3030, 6.3167, 5.3114) [0.0422, 0.4338, 0.4133]\n",
            "PeriodicSite: W (3.2873, 10.0253, 11.7379) [0.4578, 0.4338, 0.9133]\n",
            "PeriodicSite: W (6.8776, 8.5963, 7.5414) [0.9578, 0.5662, 0.5867]\n",
            "PeriodicSite: W (3.8933, 4.8877, 1.1150) [0.5422, 0.5662, 0.0867]\n",
            "PeriodicSite: O (3.4761, 9.0984, 5.0960) [0.4841, 0.8215, 0.3965]\n",
            "PeriodicSite: O (0.1142, 12.8069, 11.5225) [0.0159, 0.8215, 0.8965]\n",
            "PeriodicSite: O (3.7045, 5.8146, 7.7568) [0.5159, 0.1785, 0.6035]\n",
            "PeriodicSite: O (7.0664, 2.1061, 1.3304) [0.9841, 0.1785, 0.1035]\n",
            "PeriodicSite: O (6.5754, 5.3910, 4.0175) [0.9157, 0.4099, 0.3126]\n",
            "PeriodicSite: O (4.1955, 9.0995, 10.4439) [0.5843, 0.4099, 0.8126]\n",
            "PeriodicSite: O (0.6052, 9.5220, 8.8354) [0.0843, 0.5901, 0.6874]\n",
            "PeriodicSite: O (2.9851, 5.8135, 2.4089) [0.4157, 0.5901, 0.1874]\n",
            "PeriodicSite: O (6.1619, 7.6968, 5.7103) [0.8581, 0.5872, 0.4443]\n",
            "PeriodicSite: O (4.6091, 11.4054, 12.1367) [0.6419, 0.5872, 0.9443]\n",
            "PeriodicSite: O (1.0187, 7.2162, 7.1425) [0.1419, 0.4128, 0.5557]\n",
            "PeriodicSite: O (2.5716, 3.5076, 0.7161) [0.3581, 0.4128, 0.0557]\n",
            "PeriodicSite: O (1.7807, 3.2509, 3.6560) [0.2480, 0.1522, 0.2844]\n",
            "PeriodicSite: O (1.8096, 6.9594, 10.0824) [0.2520, 0.1522, 0.7844]\n",
            "PeriodicSite: O (5.3999, 11.6622, 9.1969) [0.7520, 0.8478, 0.7156]\n",
            "PeriodicSite: O (5.3711, 7.9536, 2.7705) [0.7480, 0.8478, 0.2156]\n",
            "PeriodicSite: O (1.6508, 4.9998, 5.7701) [0.2299, 0.2228, 0.4489]\n",
            "PeriodicSite: O (1.9395, 8.7083, 12.1965) [0.2701, 0.2228, 0.9489]\n",
            "PeriodicSite: O (5.5298, 9.9132, 7.0827) [0.7701, 0.7772, 0.5511]\n",
            "PeriodicSite: O (5.2412, 6.2047, 0.6563) [0.7299, 0.7772, 0.0511]\n",
            "PeriodicSite: O (1.3738, 7.3057, 4.2477) [0.1913, 0.6476, 0.3305]\n",
            "PeriodicSite: O (2.2165, 11.0143, 10.6741) [0.3087, 0.6476, 0.8305]\n",
            "PeriodicSite: O (5.8069, 7.6073, 8.6051) [0.8087, 0.3524, 0.6695]\n",
            "PeriodicSite: O (4.9641, 3.8987, 2.1787) [0.6913, 0.3524, 0.1695]\n",
            "PeriodicSite: O (0.8739, 9.7744, 6.1224) [0.1217, 0.8326, 0.4763]\n",
            "PeriodicSite: O (2.7164, 13.4830, 12.5489) [0.3783, 0.8326, 0.9763]\n",
            "PeriodicSite: O (6.3067, 5.1386, 6.7304) [0.8783, 0.1674, 0.5237]\n",
            "PeriodicSite: O (4.4643, 1.4300, 0.3040) [0.6217, 0.1674, 0.0237]\n",
            "PeriodicSite: O (4.1412, 4.1497, 5.3800) [0.5767, 0.1394, 0.4186]\n",
            "PeriodicSite: O (6.6298, 7.8583, 11.8064) [0.9233, 0.1394, 0.9186]\n",
            "PeriodicSite: O (3.0394, 10.7633, 7.4729) [0.4233, 0.8606, 0.5814]\n",
            "PeriodicSite: O (0.5509, 7.0547, 1.0465) [0.0767, 0.8606, 0.0814],\n",
            "\u001b[1mfields_not_requested\u001b[0;0m=['builder_meta', 'nsites', 'elements', 'nelements', 'composition', 'composition_reduced', 'formula_pretty', 'formula_anonymous', 'chemsys', 'volume', 'density', 'density_atomic', 'symmetry', 'property_name', 'material_id', 'deprecated', 'deprecation_reasons', 'last_updated', 'origins', 'warnings', 'task_ids', 'uncorrected_energy_per_atom', 'energy_per_atom', 'formation_energy_per_atom', 'energy_above_hull', 'is_stable', 'equilibrium_reaction_energy_per_atom', 'decomposes_to', 'xas', 'grain_boundaries', 'band_gap', 'cbm', 'vbm', 'efermi', 'is_gap_direct', 'is_metal', 'es_source_calc_id', 'bandstructure', 'dos', 'dos_energy_up', 'dos_energy_down', 'is_magnetic', 'ordering', 'total_magnetization', 'total_magnetization_normalized_vol', 'total_magnetization_normalized_formula_units', 'num_magnetic_sites', 'num_unique_magnetic_sites', 'types_of_magnetic_species', 'k_voigt', 'k_reuss', 'k_vrh', 'g_voigt', 'g_reuss', 'g_vrh', 'universal_anisotropy', 'homogeneous_poisson', 'e_total', 'e_ionic', 'e_electronic', 'n', 'e_ij_max', 'weighted_surface_energy_EV_PER_ANG2', 'weighted_surface_energy', 'weighted_work_function', 'surface_anisotropy', 'shape_factor', 'has_reconstructed', 'possible_species', 'has_props', 'theoretical', 'database_IDs']\n",
            ")]\n"
          ]
        }
      ]
    },
    {
      "cell_type": "markdown",
      "source": [
        "\n",
        "### **Material description**\n",
        "\n",
        "$\\text{PbWO}_4$ crystalinzes in the monoclinic $\\text{P2}_1/\\text{c}$ space group\n",
        "\n",
        "| Parameter | Value |\n",
        "| --- | --- |\n",
        "| Number of atoms | 48 |\n",
        "| Crystal system | Monoclinic |\n",
        "| Lattice system | Monoclinic |\n",
        "| Symbol |  $\\text{P2}_1/\\text{c}$  |\n",
        "| Point group | 2/m\n",
        "| Possible Ocxidation States | $\\text{W}^ {6+}, \\ \\text{Pb}^ {2+}, \\ \\text{O}^ {2-}$ \n",
        "| Cell length a | 7.180633 Å |\n",
        "| Cell length b | 7.495824 Å |\n",
        "| Cell length c | 14.839475 Å |\n",
        "| Angle α | 60.011400° |\n",
        "| Angle β | 90.000000° |\n",
        "| Angle γ | 90.000000° |\n",
        "| Volume | 691.8009357914264 Å |"
      ],
      "metadata": {
        "id": "1tpMJCd9awQI"
      }
    },
    {
      "cell_type": "markdown",
      "source": [
        "## References\n",
        "\n",
        "---\n",
        "\n",
        "[1][https://iopscience.iop.org/article/10.1088/1748-0221/5/03/P03010/pdf](https://iopscience.iop.org/article/10.1088/1748-0221/5/03/P03010/pdf)\n",
        "\n",
        "[2][https://umkc-illiad-oclc-org.proxy.library.umkc.edu/illiad/illiad.dll?Action=10&Form=72&Value=524188](https://umkc-illiad-oclc-org.proxy.library.umkc.edu/illiad/illiad.dll?Action=10&Form=72&Value=524188)\n",
        "\n",
        "[3][http://cds.cern.ch/record/687201/files/note00_002.pdf](http://cds.cern.ch/record/687201/files/note00_002.pdf)\n",
        "\n",
        "[4][https://www.photonics.com/Articles/Scintillator_Detectors_with_Integrated/a57310](https://www.photonics.com/Articles/Scintillator_Detectors_with_Integrated/a57310)\n",
        "\n",
        "[5][http://jdj.mit.edu/~chrc/scintillation.html](http://jdj.mit.edu/~chrc/scintillation.html)\n",
        "\n",
        "[6][https://arxiv.org/pdf/2103.13106.pdf](https://arxiv.org/pdf/2103.13106.pdf)\n",
        "\n",
        "[7][https://www.researchgate.net/publication/241252047_Comparative_study_of_electronic_structures_and_nonproportionality_of_scintillator_materials](https://www.researchgate.net/publication/241252047_Comparative_study_of_electronic_structures_and_nonproportionality_of_scintillator_materials)\n",
        "\n",
        "[8][https://arxiv.org/ftp/arxiv/papers/1509/1509.07822.pdf](https://arxiv.org/ftp/arxiv/papers/1509/1509.07822.pdf)"
      ],
      "metadata": {
        "id": "HfbNYynnYRSc"
      }
    }
  ]
}