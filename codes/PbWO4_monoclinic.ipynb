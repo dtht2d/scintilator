{
  "nbformat": 4,
  "nbformat_minor": 0,
  "metadata": {
    "colab": {
      "provenance": [],
      "authorship_tag": "ABX9TyP+katwUEMfWNaVlkph6LUg",
      "include_colab_link": true
    },
    "kernelspec": {
      "name": "python3",
      "display_name": "Python 3"
    },
    "language_info": {
      "name": "python"
    },
    "widgets": {
      "application/vnd.jupyter.widget-state+json": {
        "bb11d89555a846808866842fb9cbd913": {
          "model_module": "@jupyter-widgets/controls",
          "model_name": "HBoxModel",
          "model_module_version": "1.5.0",
          "state": {
            "_dom_classes": [],
            "_model_module": "@jupyter-widgets/controls",
            "_model_module_version": "1.5.0",
            "_model_name": "HBoxModel",
            "_view_count": null,
            "_view_module": "@jupyter-widgets/controls",
            "_view_module_version": "1.5.0",
            "_view_name": "HBoxView",
            "box_style": "",
            "children": [
              "IPY_MODEL_098c97acd1c748b4aa432f7a4f1b5ecb",
              "IPY_MODEL_6b52c1b4ee31437c8c7901c129c84e90",
              "IPY_MODEL_fec89619294140c983171227a43f3bca"
            ],
            "layout": "IPY_MODEL_cf634000d5744d598804a439db004a6e"
          }
        },
        "098c97acd1c748b4aa432f7a4f1b5ecb": {
          "model_module": "@jupyter-widgets/controls",
          "model_name": "HTMLModel",
          "model_module_version": "1.5.0",
          "state": {
            "_dom_classes": [],
            "_model_module": "@jupyter-widgets/controls",
            "_model_module_version": "1.5.0",
            "_model_name": "HTMLModel",
            "_view_count": null,
            "_view_module": "@jupyter-widgets/controls",
            "_view_module_version": "1.5.0",
            "_view_name": "HTMLView",
            "description": "",
            "description_tooltip": null,
            "layout": "IPY_MODEL_b03b224742ca4fd286626566dedd45b1",
            "placeholder": "​",
            "style": "IPY_MODEL_375081b5f3804874b0d402267db2fc0d",
            "value": "Retrieving MaterialsDoc documents: 100%"
          }
        },
        "6b52c1b4ee31437c8c7901c129c84e90": {
          "model_module": "@jupyter-widgets/controls",
          "model_name": "FloatProgressModel",
          "model_module_version": "1.5.0",
          "state": {
            "_dom_classes": [],
            "_model_module": "@jupyter-widgets/controls",
            "_model_module_version": "1.5.0",
            "_model_name": "FloatProgressModel",
            "_view_count": null,
            "_view_module": "@jupyter-widgets/controls",
            "_view_module_version": "1.5.0",
            "_view_name": "ProgressView",
            "bar_style": "success",
            "description": "",
            "description_tooltip": null,
            "layout": "IPY_MODEL_c8026d0d920e4290889711e67b6b58fc",
            "max": 10,
            "min": 0,
            "orientation": "horizontal",
            "style": "IPY_MODEL_d65906e4fe0549f9bc874567425a18f4",
            "value": 10
          }
        },
        "fec89619294140c983171227a43f3bca": {
          "model_module": "@jupyter-widgets/controls",
          "model_name": "HTMLModel",
          "model_module_version": "1.5.0",
          "state": {
            "_dom_classes": [],
            "_model_module": "@jupyter-widgets/controls",
            "_model_module_version": "1.5.0",
            "_model_name": "HTMLModel",
            "_view_count": null,
            "_view_module": "@jupyter-widgets/controls",
            "_view_module_version": "1.5.0",
            "_view_name": "HTMLView",
            "description": "",
            "description_tooltip": null,
            "layout": "IPY_MODEL_403cd0a536294b9aac33f93c8f5907e0",
            "placeholder": "​",
            "style": "IPY_MODEL_d0bce6e8cb1b4a0ea9c88bedfb441091",
            "value": " 10/10 [00:00&lt;00:00, 454.91it/s]"
          }
        },
        "cf634000d5744d598804a439db004a6e": {
          "model_module": "@jupyter-widgets/base",
          "model_name": "LayoutModel",
          "model_module_version": "1.2.0",
          "state": {
            "_model_module": "@jupyter-widgets/base",
            "_model_module_version": "1.2.0",
            "_model_name": "LayoutModel",
            "_view_count": null,
            "_view_module": "@jupyter-widgets/base",
            "_view_module_version": "1.2.0",
            "_view_name": "LayoutView",
            "align_content": null,
            "align_items": null,
            "align_self": null,
            "border": null,
            "bottom": null,
            "display": null,
            "flex": null,
            "flex_flow": null,
            "grid_area": null,
            "grid_auto_columns": null,
            "grid_auto_flow": null,
            "grid_auto_rows": null,
            "grid_column": null,
            "grid_gap": null,
            "grid_row": null,
            "grid_template_areas": null,
            "grid_template_columns": null,
            "grid_template_rows": null,
            "height": null,
            "justify_content": null,
            "justify_items": null,
            "left": null,
            "margin": null,
            "max_height": null,
            "max_width": null,
            "min_height": null,
            "min_width": null,
            "object_fit": null,
            "object_position": null,
            "order": null,
            "overflow": null,
            "overflow_x": null,
            "overflow_y": null,
            "padding": null,
            "right": null,
            "top": null,
            "visibility": null,
            "width": null
          }
        },
        "b03b224742ca4fd286626566dedd45b1": {
          "model_module": "@jupyter-widgets/base",
          "model_name": "LayoutModel",
          "model_module_version": "1.2.0",
          "state": {
            "_model_module": "@jupyter-widgets/base",
            "_model_module_version": "1.2.0",
            "_model_name": "LayoutModel",
            "_view_count": null,
            "_view_module": "@jupyter-widgets/base",
            "_view_module_version": "1.2.0",
            "_view_name": "LayoutView",
            "align_content": null,
            "align_items": null,
            "align_self": null,
            "border": null,
            "bottom": null,
            "display": null,
            "flex": null,
            "flex_flow": null,
            "grid_area": null,
            "grid_auto_columns": null,
            "grid_auto_flow": null,
            "grid_auto_rows": null,
            "grid_column": null,
            "grid_gap": null,
            "grid_row": null,
            "grid_template_areas": null,
            "grid_template_columns": null,
            "grid_template_rows": null,
            "height": null,
            "justify_content": null,
            "justify_items": null,
            "left": null,
            "margin": null,
            "max_height": null,
            "max_width": null,
            "min_height": null,
            "min_width": null,
            "object_fit": null,
            "object_position": null,
            "order": null,
            "overflow": null,
            "overflow_x": null,
            "overflow_y": null,
            "padding": null,
            "right": null,
            "top": null,
            "visibility": null,
            "width": null
          }
        },
        "375081b5f3804874b0d402267db2fc0d": {
          "model_module": "@jupyter-widgets/controls",
          "model_name": "DescriptionStyleModel",
          "model_module_version": "1.5.0",
          "state": {
            "_model_module": "@jupyter-widgets/controls",
            "_model_module_version": "1.5.0",
            "_model_name": "DescriptionStyleModel",
            "_view_count": null,
            "_view_module": "@jupyter-widgets/base",
            "_view_module_version": "1.2.0",
            "_view_name": "StyleView",
            "description_width": ""
          }
        },
        "c8026d0d920e4290889711e67b6b58fc": {
          "model_module": "@jupyter-widgets/base",
          "model_name": "LayoutModel",
          "model_module_version": "1.2.0",
          "state": {
            "_model_module": "@jupyter-widgets/base",
            "_model_module_version": "1.2.0",
            "_model_name": "LayoutModel",
            "_view_count": null,
            "_view_module": "@jupyter-widgets/base",
            "_view_module_version": "1.2.0",
            "_view_name": "LayoutView",
            "align_content": null,
            "align_items": null,
            "align_self": null,
            "border": null,
            "bottom": null,
            "display": null,
            "flex": null,
            "flex_flow": null,
            "grid_area": null,
            "grid_auto_columns": null,
            "grid_auto_flow": null,
            "grid_auto_rows": null,
            "grid_column": null,
            "grid_gap": null,
            "grid_row": null,
            "grid_template_areas": null,
            "grid_template_columns": null,
            "grid_template_rows": null,
            "height": null,
            "justify_content": null,
            "justify_items": null,
            "left": null,
            "margin": null,
            "max_height": null,
            "max_width": null,
            "min_height": null,
            "min_width": null,
            "object_fit": null,
            "object_position": null,
            "order": null,
            "overflow": null,
            "overflow_x": null,
            "overflow_y": null,
            "padding": null,
            "right": null,
            "top": null,
            "visibility": null,
            "width": null
          }
        },
        "d65906e4fe0549f9bc874567425a18f4": {
          "model_module": "@jupyter-widgets/controls",
          "model_name": "ProgressStyleModel",
          "model_module_version": "1.5.0",
          "state": {
            "_model_module": "@jupyter-widgets/controls",
            "_model_module_version": "1.5.0",
            "_model_name": "ProgressStyleModel",
            "_view_count": null,
            "_view_module": "@jupyter-widgets/base",
            "_view_module_version": "1.2.0",
            "_view_name": "StyleView",
            "bar_color": null,
            "description_width": ""
          }
        },
        "403cd0a536294b9aac33f93c8f5907e0": {
          "model_module": "@jupyter-widgets/base",
          "model_name": "LayoutModel",
          "model_module_version": "1.2.0",
          "state": {
            "_model_module": "@jupyter-widgets/base",
            "_model_module_version": "1.2.0",
            "_model_name": "LayoutModel",
            "_view_count": null,
            "_view_module": "@jupyter-widgets/base",
            "_view_module_version": "1.2.0",
            "_view_name": "LayoutView",
            "align_content": null,
            "align_items": null,
            "align_self": null,
            "border": null,
            "bottom": null,
            "display": null,
            "flex": null,
            "flex_flow": null,
            "grid_area": null,
            "grid_auto_columns": null,
            "grid_auto_flow": null,
            "grid_auto_rows": null,
            "grid_column": null,
            "grid_gap": null,
            "grid_row": null,
            "grid_template_areas": null,
            "grid_template_columns": null,
            "grid_template_rows": null,
            "height": null,
            "justify_content": null,
            "justify_items": null,
            "left": null,
            "margin": null,
            "max_height": null,
            "max_width": null,
            "min_height": null,
            "min_width": null,
            "object_fit": null,
            "object_position": null,
            "order": null,
            "overflow": null,
            "overflow_x": null,
            "overflow_y": null,
            "padding": null,
            "right": null,
            "top": null,
            "visibility": null,
            "width": null
          }
        },
        "d0bce6e8cb1b4a0ea9c88bedfb441091": {
          "model_module": "@jupyter-widgets/controls",
          "model_name": "DescriptionStyleModel",
          "model_module_version": "1.5.0",
          "state": {
            "_model_module": "@jupyter-widgets/controls",
            "_model_module_version": "1.5.0",
            "_model_name": "DescriptionStyleModel",
            "_view_count": null,
            "_view_module": "@jupyter-widgets/base",
            "_view_module_version": "1.2.0",
            "_view_name": "StyleView",
            "description_width": ""
          }
        },
        "7998a7ddad0d466abb9b2fc252a19fdf": {
          "model_module": "@jupyter-widgets/controls",
          "model_name": "HBoxModel",
          "model_module_version": "1.5.0",
          "state": {
            "_dom_classes": [],
            "_model_module": "@jupyter-widgets/controls",
            "_model_module_version": "1.5.0",
            "_model_name": "HBoxModel",
            "_view_count": null,
            "_view_module": "@jupyter-widgets/controls",
            "_view_module_version": "1.5.0",
            "_view_name": "HBoxView",
            "box_style": "",
            "children": [
              "IPY_MODEL_c6b71617eda2415ab1f349db60f37a8d",
              "IPY_MODEL_eaed20d05b284bde93fd11dd63f65473",
              "IPY_MODEL_d2679f931f3c44a4ab1171ed70779ed2"
            ],
            "layout": "IPY_MODEL_cc38f14a217f41b2a7ca0d4d361b3e12"
          }
        },
        "c6b71617eda2415ab1f349db60f37a8d": {
          "model_module": "@jupyter-widgets/controls",
          "model_name": "HTMLModel",
          "model_module_version": "1.5.0",
          "state": {
            "_dom_classes": [],
            "_model_module": "@jupyter-widgets/controls",
            "_model_module_version": "1.5.0",
            "_model_name": "HTMLModel",
            "_view_count": null,
            "_view_module": "@jupyter-widgets/controls",
            "_view_module_version": "1.5.0",
            "_view_name": "HTMLView",
            "description": "",
            "description_tooltip": null,
            "layout": "IPY_MODEL_685755392c884bd692209eeaae6804ce",
            "placeholder": "​",
            "style": "IPY_MODEL_7f416a4730a742e2bbe19b425f4301e0",
            "value": "Retrieving SummaryDoc documents: 100%"
          }
        },
        "eaed20d05b284bde93fd11dd63f65473": {
          "model_module": "@jupyter-widgets/controls",
          "model_name": "FloatProgressModel",
          "model_module_version": "1.5.0",
          "state": {
            "_dom_classes": [],
            "_model_module": "@jupyter-widgets/controls",
            "_model_module_version": "1.5.0",
            "_model_name": "FloatProgressModel",
            "_view_count": null,
            "_view_module": "@jupyter-widgets/controls",
            "_view_module_version": "1.5.0",
            "_view_name": "ProgressView",
            "bar_style": "success",
            "description": "",
            "description_tooltip": null,
            "layout": "IPY_MODEL_b98ce21703414be5891c6f5cca371979",
            "max": 1,
            "min": 0,
            "orientation": "horizontal",
            "style": "IPY_MODEL_ba6d3e5f25da44339b239a6b5b76fb1a",
            "value": 1
          }
        },
        "d2679f931f3c44a4ab1171ed70779ed2": {
          "model_module": "@jupyter-widgets/controls",
          "model_name": "HTMLModel",
          "model_module_version": "1.5.0",
          "state": {
            "_dom_classes": [],
            "_model_module": "@jupyter-widgets/controls",
            "_model_module_version": "1.5.0",
            "_model_name": "HTMLModel",
            "_view_count": null,
            "_view_module": "@jupyter-widgets/controls",
            "_view_module_version": "1.5.0",
            "_view_name": "HTMLView",
            "description": "",
            "description_tooltip": null,
            "layout": "IPY_MODEL_d89b27109d384d68b156747cd4d04e80",
            "placeholder": "​",
            "style": "IPY_MODEL_e4e380100ced46e2b3a109c2b2c77a07",
            "value": " 1/1 [00:00&lt;00:00, 76.12it/s]"
          }
        },
        "cc38f14a217f41b2a7ca0d4d361b3e12": {
          "model_module": "@jupyter-widgets/base",
          "model_name": "LayoutModel",
          "model_module_version": "1.2.0",
          "state": {
            "_model_module": "@jupyter-widgets/base",
            "_model_module_version": "1.2.0",
            "_model_name": "LayoutModel",
            "_view_count": null,
            "_view_module": "@jupyter-widgets/base",
            "_view_module_version": "1.2.0",
            "_view_name": "LayoutView",
            "align_content": null,
            "align_items": null,
            "align_self": null,
            "border": null,
            "bottom": null,
            "display": null,
            "flex": null,
            "flex_flow": null,
            "grid_area": null,
            "grid_auto_columns": null,
            "grid_auto_flow": null,
            "grid_auto_rows": null,
            "grid_column": null,
            "grid_gap": null,
            "grid_row": null,
            "grid_template_areas": null,
            "grid_template_columns": null,
            "grid_template_rows": null,
            "height": null,
            "justify_content": null,
            "justify_items": null,
            "left": null,
            "margin": null,
            "max_height": null,
            "max_width": null,
            "min_height": null,
            "min_width": null,
            "object_fit": null,
            "object_position": null,
            "order": null,
            "overflow": null,
            "overflow_x": null,
            "overflow_y": null,
            "padding": null,
            "right": null,
            "top": null,
            "visibility": null,
            "width": null
          }
        },
        "685755392c884bd692209eeaae6804ce": {
          "model_module": "@jupyter-widgets/base",
          "model_name": "LayoutModel",
          "model_module_version": "1.2.0",
          "state": {
            "_model_module": "@jupyter-widgets/base",
            "_model_module_version": "1.2.0",
            "_model_name": "LayoutModel",
            "_view_count": null,
            "_view_module": "@jupyter-widgets/base",
            "_view_module_version": "1.2.0",
            "_view_name": "LayoutView",
            "align_content": null,
            "align_items": null,
            "align_self": null,
            "border": null,
            "bottom": null,
            "display": null,
            "flex": null,
            "flex_flow": null,
            "grid_area": null,
            "grid_auto_columns": null,
            "grid_auto_flow": null,
            "grid_auto_rows": null,
            "grid_column": null,
            "grid_gap": null,
            "grid_row": null,
            "grid_template_areas": null,
            "grid_template_columns": null,
            "grid_template_rows": null,
            "height": null,
            "justify_content": null,
            "justify_items": null,
            "left": null,
            "margin": null,
            "max_height": null,
            "max_width": null,
            "min_height": null,
            "min_width": null,
            "object_fit": null,
            "object_position": null,
            "order": null,
            "overflow": null,
            "overflow_x": null,
            "overflow_y": null,
            "padding": null,
            "right": null,
            "top": null,
            "visibility": null,
            "width": null
          }
        },
        "7f416a4730a742e2bbe19b425f4301e0": {
          "model_module": "@jupyter-widgets/controls",
          "model_name": "DescriptionStyleModel",
          "model_module_version": "1.5.0",
          "state": {
            "_model_module": "@jupyter-widgets/controls",
            "_model_module_version": "1.5.0",
            "_model_name": "DescriptionStyleModel",
            "_view_count": null,
            "_view_module": "@jupyter-widgets/base",
            "_view_module_version": "1.2.0",
            "_view_name": "StyleView",
            "description_width": ""
          }
        },
        "b98ce21703414be5891c6f5cca371979": {
          "model_module": "@jupyter-widgets/base",
          "model_name": "LayoutModel",
          "model_module_version": "1.2.0",
          "state": {
            "_model_module": "@jupyter-widgets/base",
            "_model_module_version": "1.2.0",
            "_model_name": "LayoutModel",
            "_view_count": null,
            "_view_module": "@jupyter-widgets/base",
            "_view_module_version": "1.2.0",
            "_view_name": "LayoutView",
            "align_content": null,
            "align_items": null,
            "align_self": null,
            "border": null,
            "bottom": null,
            "display": null,
            "flex": null,
            "flex_flow": null,
            "grid_area": null,
            "grid_auto_columns": null,
            "grid_auto_flow": null,
            "grid_auto_rows": null,
            "grid_column": null,
            "grid_gap": null,
            "grid_row": null,
            "grid_template_areas": null,
            "grid_template_columns": null,
            "grid_template_rows": null,
            "height": null,
            "justify_content": null,
            "justify_items": null,
            "left": null,
            "margin": null,
            "max_height": null,
            "max_width": null,
            "min_height": null,
            "min_width": null,
            "object_fit": null,
            "object_position": null,
            "order": null,
            "overflow": null,
            "overflow_x": null,
            "overflow_y": null,
            "padding": null,
            "right": null,
            "top": null,
            "visibility": null,
            "width": null
          }
        },
        "ba6d3e5f25da44339b239a6b5b76fb1a": {
          "model_module": "@jupyter-widgets/controls",
          "model_name": "ProgressStyleModel",
          "model_module_version": "1.5.0",
          "state": {
            "_model_module": "@jupyter-widgets/controls",
            "_model_module_version": "1.5.0",
            "_model_name": "ProgressStyleModel",
            "_view_count": null,
            "_view_module": "@jupyter-widgets/base",
            "_view_module_version": "1.2.0",
            "_view_name": "StyleView",
            "bar_color": null,
            "description_width": ""
          }
        },
        "d89b27109d384d68b156747cd4d04e80": {
          "model_module": "@jupyter-widgets/base",
          "model_name": "LayoutModel",
          "model_module_version": "1.2.0",
          "state": {
            "_model_module": "@jupyter-widgets/base",
            "_model_module_version": "1.2.0",
            "_model_name": "LayoutModel",
            "_view_count": null,
            "_view_module": "@jupyter-widgets/base",
            "_view_module_version": "1.2.0",
            "_view_name": "LayoutView",
            "align_content": null,
            "align_items": null,
            "align_self": null,
            "border": null,
            "bottom": null,
            "display": null,
            "flex": null,
            "flex_flow": null,
            "grid_area": null,
            "grid_auto_columns": null,
            "grid_auto_flow": null,
            "grid_auto_rows": null,
            "grid_column": null,
            "grid_gap": null,
            "grid_row": null,
            "grid_template_areas": null,
            "grid_template_columns": null,
            "grid_template_rows": null,
            "height": null,
            "justify_content": null,
            "justify_items": null,
            "left": null,
            "margin": null,
            "max_height": null,
            "max_width": null,
            "min_height": null,
            "min_width": null,
            "object_fit": null,
            "object_position": null,
            "order": null,
            "overflow": null,
            "overflow_x": null,
            "overflow_y": null,
            "padding": null,
            "right": null,
            "top": null,
            "visibility": null,
            "width": null
          }
        },
        "e4e380100ced46e2b3a109c2b2c77a07": {
          "model_module": "@jupyter-widgets/controls",
          "model_name": "DescriptionStyleModel",
          "model_module_version": "1.5.0",
          "state": {
            "_model_module": "@jupyter-widgets/controls",
            "_model_module_version": "1.5.0",
            "_model_name": "DescriptionStyleModel",
            "_view_count": null,
            "_view_module": "@jupyter-widgets/base",
            "_view_module_version": "1.2.0",
            "_view_name": "StyleView",
            "description_width": ""
          }
        },
        "6d14601fabda4184a24c117703e7b040": {
          "model_module": "@jupyter-widgets/controls",
          "model_name": "HBoxModel",
          "model_module_version": "1.5.0",
          "state": {
            "_dom_classes": [],
            "_model_module": "@jupyter-widgets/controls",
            "_model_module_version": "1.5.0",
            "_model_name": "HBoxModel",
            "_view_count": null,
            "_view_module": "@jupyter-widgets/controls",
            "_view_module_version": "1.5.0",
            "_view_name": "HBoxView",
            "box_style": "",
            "children": [
              "IPY_MODEL_4273d9b2379e41eb97aeab3d5d6f9929",
              "IPY_MODEL_bc989417a1914ba8bf2fd889f2b84ffd",
              "IPY_MODEL_6924c82dec674870a8919d5ec15ac263"
            ],
            "layout": "IPY_MODEL_0723b33a56e941fbaa94003c21151f29"
          }
        },
        "4273d9b2379e41eb97aeab3d5d6f9929": {
          "model_module": "@jupyter-widgets/controls",
          "model_name": "HTMLModel",
          "model_module_version": "1.5.0",
          "state": {
            "_dom_classes": [],
            "_model_module": "@jupyter-widgets/controls",
            "_model_module_version": "1.5.0",
            "_model_name": "HTMLModel",
            "_view_count": null,
            "_view_module": "@jupyter-widgets/controls",
            "_view_module_version": "1.5.0",
            "_view_name": "HTMLView",
            "description": "",
            "description_tooltip": null,
            "layout": "IPY_MODEL_9811883bf5d44f388dc03900ade6552f",
            "placeholder": "​",
            "style": "IPY_MODEL_4068b13f0a074580945267f7e8060bea",
            "value": "Retrieving MaterialsDoc documents: 100%"
          }
        },
        "bc989417a1914ba8bf2fd889f2b84ffd": {
          "model_module": "@jupyter-widgets/controls",
          "model_name": "FloatProgressModel",
          "model_module_version": "1.5.0",
          "state": {
            "_dom_classes": [],
            "_model_module": "@jupyter-widgets/controls",
            "_model_module_version": "1.5.0",
            "_model_name": "FloatProgressModel",
            "_view_count": null,
            "_view_module": "@jupyter-widgets/controls",
            "_view_module_version": "1.5.0",
            "_view_name": "ProgressView",
            "bar_style": "success",
            "description": "",
            "description_tooltip": null,
            "layout": "IPY_MODEL_ba79cdb3b2394e4dbca7a12c8c999685",
            "max": 1,
            "min": 0,
            "orientation": "horizontal",
            "style": "IPY_MODEL_bc9dbf9c3b3144659568a4359d3287ee",
            "value": 1
          }
        },
        "6924c82dec674870a8919d5ec15ac263": {
          "model_module": "@jupyter-widgets/controls",
          "model_name": "HTMLModel",
          "model_module_version": "1.5.0",
          "state": {
            "_dom_classes": [],
            "_model_module": "@jupyter-widgets/controls",
            "_model_module_version": "1.5.0",
            "_model_name": "HTMLModel",
            "_view_count": null,
            "_view_module": "@jupyter-widgets/controls",
            "_view_module_version": "1.5.0",
            "_view_name": "HTMLView",
            "description": "",
            "description_tooltip": null,
            "layout": "IPY_MODEL_1d9f1f174b704cc7b5753e001954a4fa",
            "placeholder": "​",
            "style": "IPY_MODEL_a086e840921847c98808989f447d89c5",
            "value": " 1/1 [00:00&lt;00:00, 34.49it/s]"
          }
        },
        "0723b33a56e941fbaa94003c21151f29": {
          "model_module": "@jupyter-widgets/base",
          "model_name": "LayoutModel",
          "model_module_version": "1.2.0",
          "state": {
            "_model_module": "@jupyter-widgets/base",
            "_model_module_version": "1.2.0",
            "_model_name": "LayoutModel",
            "_view_count": null,
            "_view_module": "@jupyter-widgets/base",
            "_view_module_version": "1.2.0",
            "_view_name": "LayoutView",
            "align_content": null,
            "align_items": null,
            "align_self": null,
            "border": null,
            "bottom": null,
            "display": null,
            "flex": null,
            "flex_flow": null,
            "grid_area": null,
            "grid_auto_columns": null,
            "grid_auto_flow": null,
            "grid_auto_rows": null,
            "grid_column": null,
            "grid_gap": null,
            "grid_row": null,
            "grid_template_areas": null,
            "grid_template_columns": null,
            "grid_template_rows": null,
            "height": null,
            "justify_content": null,
            "justify_items": null,
            "left": null,
            "margin": null,
            "max_height": null,
            "max_width": null,
            "min_height": null,
            "min_width": null,
            "object_fit": null,
            "object_position": null,
            "order": null,
            "overflow": null,
            "overflow_x": null,
            "overflow_y": null,
            "padding": null,
            "right": null,
            "top": null,
            "visibility": null,
            "width": null
          }
        },
        "9811883bf5d44f388dc03900ade6552f": {
          "model_module": "@jupyter-widgets/base",
          "model_name": "LayoutModel",
          "model_module_version": "1.2.0",
          "state": {
            "_model_module": "@jupyter-widgets/base",
            "_model_module_version": "1.2.0",
            "_model_name": "LayoutModel",
            "_view_count": null,
            "_view_module": "@jupyter-widgets/base",
            "_view_module_version": "1.2.0",
            "_view_name": "LayoutView",
            "align_content": null,
            "align_items": null,
            "align_self": null,
            "border": null,
            "bottom": null,
            "display": null,
            "flex": null,
            "flex_flow": null,
            "grid_area": null,
            "grid_auto_columns": null,
            "grid_auto_flow": null,
            "grid_auto_rows": null,
            "grid_column": null,
            "grid_gap": null,
            "grid_row": null,
            "grid_template_areas": null,
            "grid_template_columns": null,
            "grid_template_rows": null,
            "height": null,
            "justify_content": null,
            "justify_items": null,
            "left": null,
            "margin": null,
            "max_height": null,
            "max_width": null,
            "min_height": null,
            "min_width": null,
            "object_fit": null,
            "object_position": null,
            "order": null,
            "overflow": null,
            "overflow_x": null,
            "overflow_y": null,
            "padding": null,
            "right": null,
            "top": null,
            "visibility": null,
            "width": null
          }
        },
        "4068b13f0a074580945267f7e8060bea": {
          "model_module": "@jupyter-widgets/controls",
          "model_name": "DescriptionStyleModel",
          "model_module_version": "1.5.0",
          "state": {
            "_model_module": "@jupyter-widgets/controls",
            "_model_module_version": "1.5.0",
            "_model_name": "DescriptionStyleModel",
            "_view_count": null,
            "_view_module": "@jupyter-widgets/base",
            "_view_module_version": "1.2.0",
            "_view_name": "StyleView",
            "description_width": ""
          }
        },
        "ba79cdb3b2394e4dbca7a12c8c999685": {
          "model_module": "@jupyter-widgets/base",
          "model_name": "LayoutModel",
          "model_module_version": "1.2.0",
          "state": {
            "_model_module": "@jupyter-widgets/base",
            "_model_module_version": "1.2.0",
            "_model_name": "LayoutModel",
            "_view_count": null,
            "_view_module": "@jupyter-widgets/base",
            "_view_module_version": "1.2.0",
            "_view_name": "LayoutView",
            "align_content": null,
            "align_items": null,
            "align_self": null,
            "border": null,
            "bottom": null,
            "display": null,
            "flex": null,
            "flex_flow": null,
            "grid_area": null,
            "grid_auto_columns": null,
            "grid_auto_flow": null,
            "grid_auto_rows": null,
            "grid_column": null,
            "grid_gap": null,
            "grid_row": null,
            "grid_template_areas": null,
            "grid_template_columns": null,
            "grid_template_rows": null,
            "height": null,
            "justify_content": null,
            "justify_items": null,
            "left": null,
            "margin": null,
            "max_height": null,
            "max_width": null,
            "min_height": null,
            "min_width": null,
            "object_fit": null,
            "object_position": null,
            "order": null,
            "overflow": null,
            "overflow_x": null,
            "overflow_y": null,
            "padding": null,
            "right": null,
            "top": null,
            "visibility": null,
            "width": null
          }
        },
        "bc9dbf9c3b3144659568a4359d3287ee": {
          "model_module": "@jupyter-widgets/controls",
          "model_name": "ProgressStyleModel",
          "model_module_version": "1.5.0",
          "state": {
            "_model_module": "@jupyter-widgets/controls",
            "_model_module_version": "1.5.0",
            "_model_name": "ProgressStyleModel",
            "_view_count": null,
            "_view_module": "@jupyter-widgets/base",
            "_view_module_version": "1.2.0",
            "_view_name": "StyleView",
            "bar_color": null,
            "description_width": ""
          }
        },
        "1d9f1f174b704cc7b5753e001954a4fa": {
          "model_module": "@jupyter-widgets/base",
          "model_name": "LayoutModel",
          "model_module_version": "1.2.0",
          "state": {
            "_model_module": "@jupyter-widgets/base",
            "_model_module_version": "1.2.0",
            "_model_name": "LayoutModel",
            "_view_count": null,
            "_view_module": "@jupyter-widgets/base",
            "_view_module_version": "1.2.0",
            "_view_name": "LayoutView",
            "align_content": null,
            "align_items": null,
            "align_self": null,
            "border": null,
            "bottom": null,
            "display": null,
            "flex": null,
            "flex_flow": null,
            "grid_area": null,
            "grid_auto_columns": null,
            "grid_auto_flow": null,
            "grid_auto_rows": null,
            "grid_column": null,
            "grid_gap": null,
            "grid_row": null,
            "grid_template_areas": null,
            "grid_template_columns": null,
            "grid_template_rows": null,
            "height": null,
            "justify_content": null,
            "justify_items": null,
            "left": null,
            "margin": null,
            "max_height": null,
            "max_width": null,
            "min_height": null,
            "min_width": null,
            "object_fit": null,
            "object_position": null,
            "order": null,
            "overflow": null,
            "overflow_x": null,
            "overflow_y": null,
            "padding": null,
            "right": null,
            "top": null,
            "visibility": null,
            "width": null
          }
        },
        "a086e840921847c98808989f447d89c5": {
          "model_module": "@jupyter-widgets/controls",
          "model_name": "DescriptionStyleModel",
          "model_module_version": "1.5.0",
          "state": {
            "_model_module": "@jupyter-widgets/controls",
            "_model_module_version": "1.5.0",
            "_model_name": "DescriptionStyleModel",
            "_view_count": null,
            "_view_module": "@jupyter-widgets/base",
            "_view_module_version": "1.2.0",
            "_view_name": "StyleView",
            "description_width": ""
          }
        },
        "92795e8c16b745d0a36d1658dd7c984c": {
          "model_module": "@jupyter-widgets/controls",
          "model_name": "HBoxModel",
          "model_module_version": "1.5.0",
          "state": {
            "_dom_classes": [],
            "_model_module": "@jupyter-widgets/controls",
            "_model_module_version": "1.5.0",
            "_model_name": "HBoxModel",
            "_view_count": null,
            "_view_module": "@jupyter-widgets/controls",
            "_view_module_version": "1.5.0",
            "_view_name": "HBoxView",
            "box_style": "",
            "children": [
              "IPY_MODEL_c9cbdc9badf34a06b13e233a0d37dc0c",
              "IPY_MODEL_012039b673114cf9ae6c10529bb44200",
              "IPY_MODEL_4f21455e21424eb5baeaa354e595bc3a"
            ],
            "layout": "IPY_MODEL_4ef4f83654674b8d8be01532e81616f2"
          }
        },
        "c9cbdc9badf34a06b13e233a0d37dc0c": {
          "model_module": "@jupyter-widgets/controls",
          "model_name": "HTMLModel",
          "model_module_version": "1.5.0",
          "state": {
            "_dom_classes": [],
            "_model_module": "@jupyter-widgets/controls",
            "_model_module_version": "1.5.0",
            "_model_name": "HTMLModel",
            "_view_count": null,
            "_view_module": "@jupyter-widgets/controls",
            "_view_module_version": "1.5.0",
            "_view_name": "HTMLView",
            "description": "",
            "description_tooltip": null,
            "layout": "IPY_MODEL_aa6d3b6a62754774a310afd5bc9067ef",
            "placeholder": "​",
            "style": "IPY_MODEL_d1482bbbf796448889f194366dd817f0",
            "value": "Retrieving MaterialsDoc documents: 100%"
          }
        },
        "012039b673114cf9ae6c10529bb44200": {
          "model_module": "@jupyter-widgets/controls",
          "model_name": "FloatProgressModel",
          "model_module_version": "1.5.0",
          "state": {
            "_dom_classes": [],
            "_model_module": "@jupyter-widgets/controls",
            "_model_module_version": "1.5.0",
            "_model_name": "FloatProgressModel",
            "_view_count": null,
            "_view_module": "@jupyter-widgets/controls",
            "_view_module_version": "1.5.0",
            "_view_name": "ProgressView",
            "bar_style": "success",
            "description": "",
            "description_tooltip": null,
            "layout": "IPY_MODEL_1373a7b13624408ea8e3e1f82ca4a38e",
            "max": 1,
            "min": 0,
            "orientation": "horizontal",
            "style": "IPY_MODEL_bf30e592b7174e09b510efb0ee83de95",
            "value": 1
          }
        },
        "4f21455e21424eb5baeaa354e595bc3a": {
          "model_module": "@jupyter-widgets/controls",
          "model_name": "HTMLModel",
          "model_module_version": "1.5.0",
          "state": {
            "_dom_classes": [],
            "_model_module": "@jupyter-widgets/controls",
            "_model_module_version": "1.5.0",
            "_model_name": "HTMLModel",
            "_view_count": null,
            "_view_module": "@jupyter-widgets/controls",
            "_view_module_version": "1.5.0",
            "_view_name": "HTMLView",
            "description": "",
            "description_tooltip": null,
            "layout": "IPY_MODEL_6816ffb34fe340b29087b48b4b83c98c",
            "placeholder": "​",
            "style": "IPY_MODEL_c3bd3ad51d0443f2be71d7f7b616216f",
            "value": " 1/1 [00:00&lt;00:00, 38.08it/s]"
          }
        },
        "4ef4f83654674b8d8be01532e81616f2": {
          "model_module": "@jupyter-widgets/base",
          "model_name": "LayoutModel",
          "model_module_version": "1.2.0",
          "state": {
            "_model_module": "@jupyter-widgets/base",
            "_model_module_version": "1.2.0",
            "_model_name": "LayoutModel",
            "_view_count": null,
            "_view_module": "@jupyter-widgets/base",
            "_view_module_version": "1.2.0",
            "_view_name": "LayoutView",
            "align_content": null,
            "align_items": null,
            "align_self": null,
            "border": null,
            "bottom": null,
            "display": null,
            "flex": null,
            "flex_flow": null,
            "grid_area": null,
            "grid_auto_columns": null,
            "grid_auto_flow": null,
            "grid_auto_rows": null,
            "grid_column": null,
            "grid_gap": null,
            "grid_row": null,
            "grid_template_areas": null,
            "grid_template_columns": null,
            "grid_template_rows": null,
            "height": null,
            "justify_content": null,
            "justify_items": null,
            "left": null,
            "margin": null,
            "max_height": null,
            "max_width": null,
            "min_height": null,
            "min_width": null,
            "object_fit": null,
            "object_position": null,
            "order": null,
            "overflow": null,
            "overflow_x": null,
            "overflow_y": null,
            "padding": null,
            "right": null,
            "top": null,
            "visibility": null,
            "width": null
          }
        },
        "aa6d3b6a62754774a310afd5bc9067ef": {
          "model_module": "@jupyter-widgets/base",
          "model_name": "LayoutModel",
          "model_module_version": "1.2.0",
          "state": {
            "_model_module": "@jupyter-widgets/base",
            "_model_module_version": "1.2.0",
            "_model_name": "LayoutModel",
            "_view_count": null,
            "_view_module": "@jupyter-widgets/base",
            "_view_module_version": "1.2.0",
            "_view_name": "LayoutView",
            "align_content": null,
            "align_items": null,
            "align_self": null,
            "border": null,
            "bottom": null,
            "display": null,
            "flex": null,
            "flex_flow": null,
            "grid_area": null,
            "grid_auto_columns": null,
            "grid_auto_flow": null,
            "grid_auto_rows": null,
            "grid_column": null,
            "grid_gap": null,
            "grid_row": null,
            "grid_template_areas": null,
            "grid_template_columns": null,
            "grid_template_rows": null,
            "height": null,
            "justify_content": null,
            "justify_items": null,
            "left": null,
            "margin": null,
            "max_height": null,
            "max_width": null,
            "min_height": null,
            "min_width": null,
            "object_fit": null,
            "object_position": null,
            "order": null,
            "overflow": null,
            "overflow_x": null,
            "overflow_y": null,
            "padding": null,
            "right": null,
            "top": null,
            "visibility": null,
            "width": null
          }
        },
        "d1482bbbf796448889f194366dd817f0": {
          "model_module": "@jupyter-widgets/controls",
          "model_name": "DescriptionStyleModel",
          "model_module_version": "1.5.0",
          "state": {
            "_model_module": "@jupyter-widgets/controls",
            "_model_module_version": "1.5.0",
            "_model_name": "DescriptionStyleModel",
            "_view_count": null,
            "_view_module": "@jupyter-widgets/base",
            "_view_module_version": "1.2.0",
            "_view_name": "StyleView",
            "description_width": ""
          }
        },
        "1373a7b13624408ea8e3e1f82ca4a38e": {
          "model_module": "@jupyter-widgets/base",
          "model_name": "LayoutModel",
          "model_module_version": "1.2.0",
          "state": {
            "_model_module": "@jupyter-widgets/base",
            "_model_module_version": "1.2.0",
            "_model_name": "LayoutModel",
            "_view_count": null,
            "_view_module": "@jupyter-widgets/base",
            "_view_module_version": "1.2.0",
            "_view_name": "LayoutView",
            "align_content": null,
            "align_items": null,
            "align_self": null,
            "border": null,
            "bottom": null,
            "display": null,
            "flex": null,
            "flex_flow": null,
            "grid_area": null,
            "grid_auto_columns": null,
            "grid_auto_flow": null,
            "grid_auto_rows": null,
            "grid_column": null,
            "grid_gap": null,
            "grid_row": null,
            "grid_template_areas": null,
            "grid_template_columns": null,
            "grid_template_rows": null,
            "height": null,
            "justify_content": null,
            "justify_items": null,
            "left": null,
            "margin": null,
            "max_height": null,
            "max_width": null,
            "min_height": null,
            "min_width": null,
            "object_fit": null,
            "object_position": null,
            "order": null,
            "overflow": null,
            "overflow_x": null,
            "overflow_y": null,
            "padding": null,
            "right": null,
            "top": null,
            "visibility": null,
            "width": null
          }
        },
        "bf30e592b7174e09b510efb0ee83de95": {
          "model_module": "@jupyter-widgets/controls",
          "model_name": "ProgressStyleModel",
          "model_module_version": "1.5.0",
          "state": {
            "_model_module": "@jupyter-widgets/controls",
            "_model_module_version": "1.5.0",
            "_model_name": "ProgressStyleModel",
            "_view_count": null,
            "_view_module": "@jupyter-widgets/base",
            "_view_module_version": "1.2.0",
            "_view_name": "StyleView",
            "bar_color": null,
            "description_width": ""
          }
        },
        "6816ffb34fe340b29087b48b4b83c98c": {
          "model_module": "@jupyter-widgets/base",
          "model_name": "LayoutModel",
          "model_module_version": "1.2.0",
          "state": {
            "_model_module": "@jupyter-widgets/base",
            "_model_module_version": "1.2.0",
            "_model_name": "LayoutModel",
            "_view_count": null,
            "_view_module": "@jupyter-widgets/base",
            "_view_module_version": "1.2.0",
            "_view_name": "LayoutView",
            "align_content": null,
            "align_items": null,
            "align_self": null,
            "border": null,
            "bottom": null,
            "display": null,
            "flex": null,
            "flex_flow": null,
            "grid_area": null,
            "grid_auto_columns": null,
            "grid_auto_flow": null,
            "grid_auto_rows": null,
            "grid_column": null,
            "grid_gap": null,
            "grid_row": null,
            "grid_template_areas": null,
            "grid_template_columns": null,
            "grid_template_rows": null,
            "height": null,
            "justify_content": null,
            "justify_items": null,
            "left": null,
            "margin": null,
            "max_height": null,
            "max_width": null,
            "min_height": null,
            "min_width": null,
            "object_fit": null,
            "object_position": null,
            "order": null,
            "overflow": null,
            "overflow_x": null,
            "overflow_y": null,
            "padding": null,
            "right": null,
            "top": null,
            "visibility": null,
            "width": null
          }
        },
        "c3bd3ad51d0443f2be71d7f7b616216f": {
          "model_module": "@jupyter-widgets/controls",
          "model_name": "DescriptionStyleModel",
          "model_module_version": "1.5.0",
          "state": {
            "_model_module": "@jupyter-widgets/controls",
            "_model_module_version": "1.5.0",
            "_model_name": "DescriptionStyleModel",
            "_view_count": null,
            "_view_module": "@jupyter-widgets/base",
            "_view_module_version": "1.2.0",
            "_view_name": "StyleView",
            "description_width": ""
          }
        }
      }
    }
  },
  "cells": [
    {
      "cell_type": "markdown",
      "metadata": {
        "id": "view-in-github",
        "colab_type": "text"
      },
      "source": [
        "<a href=\"https://colab.research.google.com/github/dtht2d/scintilator/blob/main/codes/PbWO4_monoclinic.ipynb\" target=\"_parent\"><img src=\"https://colab.research.google.com/assets/colab-badge.svg\" alt=\"Open In Colab\"/></a>"
      ]
    },
    {
      "cell_type": "markdown",
      "source": [
        "# **Electronic Structure of  $\\text{PbWO}_4$ and optical properties of Scintillator Materials** \n",
        "---"
      ],
      "metadata": {
        "id": "SGm9R0apXups"
      }
    },
    {
      "cell_type": "code",
      "source": [
        "%autosave 30"
      ],
      "metadata": {
        "id": "2teACzJy7rX5",
        "outputId": "2694c6d4-4ac8-408e-ebcf-a352fdba8681",
        "colab": {
          "base_uri": "https://localhost:8080/",
          "height": 35
        }
      },
      "execution_count": 46,
      "outputs": [
        {
          "output_type": "display_data",
          "data": {
            "application/javascript": [
              "IPython.notebook.set_autosave_interval(30000)"
            ]
          },
          "metadata": {}
        },
        {
          "output_type": "stream",
          "name": "stdout",
          "text": [
            "Autosaving every 30 seconds\n"
          ]
        }
      ]
    },
    {
      "cell_type": "markdown",
      "source": [
        "## Abstract"
      ],
      "metadata": {
        "id": "qXR_2qZ8aezI"
      }
    },
    {
      "cell_type": "markdown",
      "source": [
        "## Objectives\n"
      ],
      "metadata": {
        "id": "74VKR-jBaVWW"
      }
    },
    {
      "cell_type": "markdown",
      "source": [
        "\n",
        "Study the electronic structure and optical properties of $\\text{PbWO}_4$\n",
        "\n",
        "What makes Lead Tungstate (PbWO4) crystal a popular choice as a detector material in high energy physics devices, such as the CMS detector at CERN?\n",
        "\n",
        "Is its quick decay time, high density, and strong resistance to radiation. Its unique properties also make it a promising material for use in medical devices. In addition, it is widely used in photonics applications due to its stable physical and chemical properties and exceptional optical properties.\n",
        "\n",
        "Study the principle of nano-photonics and how we can integrate nano-photonics with traditional scintillator materials to improve the development of radiation detection"
      ],
      "metadata": {
        "id": "CA0DXezrXjgq"
      }
    },
    {
      "cell_type": "markdown",
      "source": [
        "### Install packages"
      ],
      "metadata": {
        "id": "-fivBTUGXMtD"
      }
    },
    {
      "cell_type": "code",
      "execution_count": 47,
      "metadata": {
        "id": "nS6C96UQfbUu",
        "colab": {
          "base_uri": "https://localhost:8080/"
        },
        "outputId": "722b75ae-20de-4d33-a662-1c238f1307f3"
      },
      "outputs": [
        {
          "output_type": "stream",
          "name": "stdout",
          "text": [
            "Looking in indexes: https://pypi.org/simple, https://us-python.pkg.dev/colab-wheels/public/simple/\n",
            "Requirement already satisfied: mp-api in /usr/local/lib/python3.9/dist-packages (0.30.10)\n",
            "Requirement already satisfied: typing-extensions>=3.7.4.1 in /usr/local/lib/python3.9/dist-packages (from mp-api) (4.5.0)\n",
            "Requirement already satisfied: setuptools in /usr/local/lib/python3.9/dist-packages (from mp-api) (67.6.0)\n",
            "Requirement already satisfied: requests>=2.23.0 in /usr/local/lib/python3.9/dist-packages (from mp-api) (2.27.1)\n",
            "Requirement already satisfied: pymatgen>=2022.3.7 in /usr/local/lib/python3.9/dist-packages (from mp-api) (2023.3.23)\n",
            "Requirement already satisfied: msgpack in /usr/local/lib/python3.9/dist-packages (from mp-api) (1.0.5)\n",
            "Requirement already satisfied: emmet-core>=0.39.8 in /usr/local/lib/python3.9/dist-packages (from mp-api) (0.51.0)\n",
            "Requirement already satisfied: monty>=2021.3.12 in /usr/local/lib/python3.9/dist-packages (from mp-api) (2022.9.9)\n",
            "Requirement already satisfied: pybtex~=0.24 in /usr/local/lib/python3.9/dist-packages (from emmet-core>=0.39.8->mp-api) (0.24.0)\n",
            "Requirement already satisfied: pydantic>=1.10.2 in /usr/local/lib/python3.9/dist-packages (from emmet-core>=0.39.8->mp-api) (1.10.6)\n",
            "Requirement already satisfied: spglib>=2.0.1 in /usr/local/lib/python3.9/dist-packages (from emmet-core>=0.39.8->mp-api) (2.0.2)\n",
            "Requirement already satisfied: palettable>=3.1.1 in /usr/local/lib/python3.9/dist-packages (from pymatgen>=2022.3.7->mp-api) (3.3.0)\n",
            "Requirement already satisfied: pandas in /usr/local/lib/python3.9/dist-packages (from pymatgen>=2022.3.7->mp-api) (1.4.4)\n",
            "Requirement already satisfied: scipy>=1.5.0 in /usr/local/lib/python3.9/dist-packages (from pymatgen>=2022.3.7->mp-api) (1.10.1)\n",
            "Requirement already satisfied: uncertainties>=3.1.4 in /usr/local/lib/python3.9/dist-packages (from pymatgen>=2022.3.7->mp-api) (3.1.7)\n",
            "Requirement already satisfied: tqdm in /usr/local/lib/python3.9/dist-packages (from pymatgen>=2022.3.7->mp-api) (4.65.0)\n",
            "Requirement already satisfied: tabulate in /usr/local/lib/python3.9/dist-packages (from pymatgen>=2022.3.7->mp-api) (0.8.10)\n",
            "Requirement already satisfied: numpy>=1.20.1 in /usr/local/lib/python3.9/dist-packages (from pymatgen>=2022.3.7->mp-api) (1.22.4)\n",
            "Requirement already satisfied: plotly>=4.5.0 in /usr/local/lib/python3.9/dist-packages (from pymatgen>=2022.3.7->mp-api) (5.13.1)\n",
            "Requirement already satisfied: ruamel.yaml>=0.17.0 in /usr/local/lib/python3.9/dist-packages (from pymatgen>=2022.3.7->mp-api) (0.17.21)\n",
            "Requirement already satisfied: networkx>=2.2 in /usr/local/lib/python3.9/dist-packages (from pymatgen>=2022.3.7->mp-api) (3.0)\n",
            "Requirement already satisfied: sympy in /usr/local/lib/python3.9/dist-packages (from pymatgen>=2022.3.7->mp-api) (1.11.1)\n",
            "Requirement already satisfied: matplotlib>=1.5 in /usr/local/lib/python3.9/dist-packages (from pymatgen>=2022.3.7->mp-api) (3.7.1)\n",
            "Requirement already satisfied: idna<4,>=2.5 in /usr/local/lib/python3.9/dist-packages (from requests>=2.23.0->mp-api) (3.4)\n",
            "Requirement already satisfied: charset-normalizer~=2.0.0 in /usr/local/lib/python3.9/dist-packages (from requests>=2.23.0->mp-api) (2.0.12)\n",
            "Requirement already satisfied: urllib3<1.27,>=1.21.1 in /usr/local/lib/python3.9/dist-packages (from requests>=2.23.0->mp-api) (1.26.15)\n",
            "Requirement already satisfied: certifi>=2017.4.17 in /usr/local/lib/python3.9/dist-packages (from requests>=2.23.0->mp-api) (2022.12.7)\n",
            "Requirement already satisfied: importlib-resources>=3.2.0 in /usr/local/lib/python3.9/dist-packages (from matplotlib>=1.5->pymatgen>=2022.3.7->mp-api) (5.12.0)\n",
            "Requirement already satisfied: contourpy>=1.0.1 in /usr/local/lib/python3.9/dist-packages (from matplotlib>=1.5->pymatgen>=2022.3.7->mp-api) (1.0.7)\n",
            "Requirement already satisfied: cycler>=0.10 in /usr/local/lib/python3.9/dist-packages (from matplotlib>=1.5->pymatgen>=2022.3.7->mp-api) (0.11.0)\n",
            "Requirement already satisfied: pillow>=6.2.0 in /usr/local/lib/python3.9/dist-packages (from matplotlib>=1.5->pymatgen>=2022.3.7->mp-api) (8.4.0)\n",
            "Requirement already satisfied: pyparsing>=2.3.1 in /usr/local/lib/python3.9/dist-packages (from matplotlib>=1.5->pymatgen>=2022.3.7->mp-api) (3.0.9)\n",
            "Requirement already satisfied: python-dateutil>=2.7 in /usr/local/lib/python3.9/dist-packages (from matplotlib>=1.5->pymatgen>=2022.3.7->mp-api) (2.8.2)\n",
            "Requirement already satisfied: packaging>=20.0 in /usr/local/lib/python3.9/dist-packages (from matplotlib>=1.5->pymatgen>=2022.3.7->mp-api) (23.0)\n",
            "Requirement already satisfied: kiwisolver>=1.0.1 in /usr/local/lib/python3.9/dist-packages (from matplotlib>=1.5->pymatgen>=2022.3.7->mp-api) (1.4.4)\n",
            "Requirement already satisfied: fonttools>=4.22.0 in /usr/local/lib/python3.9/dist-packages (from matplotlib>=1.5->pymatgen>=2022.3.7->mp-api) (4.39.2)\n",
            "Requirement already satisfied: tenacity>=6.2.0 in /usr/local/lib/python3.9/dist-packages (from plotly>=4.5.0->pymatgen>=2022.3.7->mp-api) (8.2.2)\n",
            "Requirement already satisfied: latexcodec>=1.0.4 in /usr/local/lib/python3.9/dist-packages (from pybtex~=0.24->emmet-core>=0.39.8->mp-api) (2.0.1)\n",
            "Requirement already satisfied: PyYAML>=3.01 in /usr/local/lib/python3.9/dist-packages (from pybtex~=0.24->emmet-core>=0.39.8->mp-api) (6.0)\n",
            "Requirement already satisfied: six in /usr/local/lib/python3.9/dist-packages (from pybtex~=0.24->emmet-core>=0.39.8->mp-api) (1.16.0)\n",
            "Requirement already satisfied: ruamel.yaml.clib>=0.2.6 in /usr/local/lib/python3.9/dist-packages (from ruamel.yaml>=0.17.0->pymatgen>=2022.3.7->mp-api) (0.2.7)\n",
            "Requirement already satisfied: future in /usr/local/lib/python3.9/dist-packages (from uncertainties>=3.1.4->pymatgen>=2022.3.7->mp-api) (0.18.3)\n",
            "Requirement already satisfied: pytz>=2020.1 in /usr/local/lib/python3.9/dist-packages (from pandas->pymatgen>=2022.3.7->mp-api) (2022.7.1)\n",
            "Requirement already satisfied: mpmath>=0.19 in /usr/local/lib/python3.9/dist-packages (from sympy->pymatgen>=2022.3.7->mp-api) (1.3.0)\n",
            "Requirement already satisfied: zipp>=3.1.0 in /usr/local/lib/python3.9/dist-packages (from importlib-resources>=3.2.0->matplotlib>=1.5->pymatgen>=2022.3.7->mp-api) (3.15.0)\n"
          ]
        }
      ],
      "source": [
        "!pip install mp-api"
      ]
    },
    {
      "cell_type": "code",
      "source": [
        "!pip install vtk"
      ],
      "metadata": {
        "id": "B6yyBTZxvFb6",
        "outputId": "71ab2df1-dbc8-4fe2-8a78-b0f34c61c3b5",
        "colab": {
          "base_uri": "https://localhost:8080/"
        }
      },
      "execution_count": 48,
      "outputs": [
        {
          "output_type": "stream",
          "name": "stdout",
          "text": [
            "Looking in indexes: https://pypi.org/simple, https://us-python.pkg.dev/colab-wheels/public/simple/\n",
            "Requirement already satisfied: vtk in /usr/local/lib/python3.9/dist-packages (9.2.6)\n",
            "Requirement already satisfied: matplotlib>=2.0.0 in /usr/local/lib/python3.9/dist-packages (from vtk) (3.7.1)\n",
            "Requirement already satisfied: importlib-resources>=3.2.0 in /usr/local/lib/python3.9/dist-packages (from matplotlib>=2.0.0->vtk) (5.12.0)\n",
            "Requirement already satisfied: contourpy>=1.0.1 in /usr/local/lib/python3.9/dist-packages (from matplotlib>=2.0.0->vtk) (1.0.7)\n",
            "Requirement already satisfied: python-dateutil>=2.7 in /usr/local/lib/python3.9/dist-packages (from matplotlib>=2.0.0->vtk) (2.8.2)\n",
            "Requirement already satisfied: cycler>=0.10 in /usr/local/lib/python3.9/dist-packages (from matplotlib>=2.0.0->vtk) (0.11.0)\n",
            "Requirement already satisfied: numpy>=1.20 in /usr/local/lib/python3.9/dist-packages (from matplotlib>=2.0.0->vtk) (1.22.4)\n",
            "Requirement already satisfied: pyparsing>=2.3.1 in /usr/local/lib/python3.9/dist-packages (from matplotlib>=2.0.0->vtk) (3.0.9)\n",
            "Requirement already satisfied: packaging>=20.0 in /usr/local/lib/python3.9/dist-packages (from matplotlib>=2.0.0->vtk) (23.0)\n",
            "Requirement already satisfied: fonttools>=4.22.0 in /usr/local/lib/python3.9/dist-packages (from matplotlib>=2.0.0->vtk) (4.39.2)\n",
            "Requirement already satisfied: kiwisolver>=1.0.1 in /usr/local/lib/python3.9/dist-packages (from matplotlib>=2.0.0->vtk) (1.4.4)\n",
            "Requirement already satisfied: pillow>=6.2.0 in /usr/local/lib/python3.9/dist-packages (from matplotlib>=2.0.0->vtk) (8.4.0)\n",
            "Requirement already satisfied: zipp>=3.1.0 in /usr/local/lib/python3.9/dist-packages (from importlib-resources>=3.2.0->matplotlib>=2.0.0->vtk) (3.15.0)\n",
            "Requirement already satisfied: six>=1.5 in /usr/local/lib/python3.9/dist-packages (from python-dateutil>=2.7->matplotlib>=2.0.0->vtk) (1.16.0)\n"
          ]
        }
      ]
    },
    {
      "cell_type": "code",
      "source": [
        "pip install pymatgen[vis]"
      ],
      "metadata": {
        "id": "q6AielliwmWb",
        "outputId": "e5fee57d-c576-4196-f83d-f4579a54ce5b",
        "colab": {
          "base_uri": "https://localhost:8080/"
        }
      },
      "execution_count": 59,
      "outputs": [
        {
          "output_type": "stream",
          "name": "stdout",
          "text": [
            "Looking in indexes: https://pypi.org/simple, https://us-python.pkg.dev/colab-wheels/public/simple/\n",
            "Requirement already satisfied: pymatgen[vis] in /usr/local/lib/python3.9/dist-packages (2023.3.23)\n",
            "Requirement already satisfied: numpy>=1.20.1 in /usr/local/lib/python3.9/dist-packages (from pymatgen[vis]) (1.22.4)\n",
            "Requirement already satisfied: sympy in /usr/local/lib/python3.9/dist-packages (from pymatgen[vis]) (1.11.1)\n",
            "Requirement already satisfied: monty>=3.0.2 in /usr/local/lib/python3.9/dist-packages (from pymatgen[vis]) (2022.9.9)\n",
            "Requirement already satisfied: ruamel.yaml>=0.17.0 in /usr/local/lib/python3.9/dist-packages (from pymatgen[vis]) (0.17.21)\n",
            "Requirement already satisfied: spglib>=2.0.2 in /usr/local/lib/python3.9/dist-packages (from pymatgen[vis]) (2.0.2)\n",
            "Requirement already satisfied: uncertainties>=3.1.4 in /usr/local/lib/python3.9/dist-packages (from pymatgen[vis]) (3.1.7)\n",
            "Requirement already satisfied: mp-api>=0.27.3 in /usr/local/lib/python3.9/dist-packages (from pymatgen[vis]) (0.30.10)\n",
            "Requirement already satisfied: tqdm in /usr/local/lib/python3.9/dist-packages (from pymatgen[vis]) (4.65.0)\n",
            "Requirement already satisfied: networkx>=2.2 in /usr/local/lib/python3.9/dist-packages (from pymatgen[vis]) (3.0)\n",
            "Requirement already satisfied: scipy>=1.5.0 in /usr/local/lib/python3.9/dist-packages (from pymatgen[vis]) (1.10.1)\n",
            "Requirement already satisfied: tabulate in /usr/local/lib/python3.9/dist-packages (from pymatgen[vis]) (0.8.10)\n",
            "Requirement already satisfied: requests in /usr/local/lib/python3.9/dist-packages (from pymatgen[vis]) (2.27.1)\n",
            "Requirement already satisfied: plotly>=4.5.0 in /usr/local/lib/python3.9/dist-packages (from pymatgen[vis]) (5.13.1)\n",
            "Requirement already satisfied: pandas in /usr/local/lib/python3.9/dist-packages (from pymatgen[vis]) (1.4.4)\n",
            "Requirement already satisfied: palettable>=3.1.1 in /usr/local/lib/python3.9/dist-packages (from pymatgen[vis]) (3.3.0)\n",
            "Requirement already satisfied: pybtex in /usr/local/lib/python3.9/dist-packages (from pymatgen[vis]) (0.24.0)\n",
            "Requirement already satisfied: matplotlib>=1.5 in /usr/local/lib/python3.9/dist-packages (from pymatgen[vis]) (3.7.1)\n",
            "Requirement already satisfied: vtk>=6.0.0 in /usr/local/lib/python3.9/dist-packages (from pymatgen[vis]) (9.2.6)\n",
            "Requirement already satisfied: contourpy>=1.0.1 in /usr/local/lib/python3.9/dist-packages (from matplotlib>=1.5->pymatgen[vis]) (1.0.7)\n",
            "Requirement already satisfied: packaging>=20.0 in /usr/local/lib/python3.9/dist-packages (from matplotlib>=1.5->pymatgen[vis]) (23.0)\n",
            "Requirement already satisfied: pillow>=6.2.0 in /usr/local/lib/python3.9/dist-packages (from matplotlib>=1.5->pymatgen[vis]) (8.4.0)\n",
            "Requirement already satisfied: pyparsing>=2.3.1 in /usr/local/lib/python3.9/dist-packages (from matplotlib>=1.5->pymatgen[vis]) (3.0.9)\n",
            "Requirement already satisfied: importlib-resources>=3.2.0 in /usr/local/lib/python3.9/dist-packages (from matplotlib>=1.5->pymatgen[vis]) (5.12.0)\n",
            "Requirement already satisfied: cycler>=0.10 in /usr/local/lib/python3.9/dist-packages (from matplotlib>=1.5->pymatgen[vis]) (0.11.0)\n",
            "Requirement already satisfied: fonttools>=4.22.0 in /usr/local/lib/python3.9/dist-packages (from matplotlib>=1.5->pymatgen[vis]) (4.39.2)\n",
            "Requirement already satisfied: kiwisolver>=1.0.1 in /usr/local/lib/python3.9/dist-packages (from matplotlib>=1.5->pymatgen[vis]) (1.4.4)\n",
            "Requirement already satisfied: python-dateutil>=2.7 in /usr/local/lib/python3.9/dist-packages (from matplotlib>=1.5->pymatgen[vis]) (2.8.2)\n",
            "Requirement already satisfied: typing-extensions>=3.7.4.1 in /usr/local/lib/python3.9/dist-packages (from mp-api>=0.27.3->pymatgen[vis]) (4.5.0)\n",
            "Requirement already satisfied: msgpack in /usr/local/lib/python3.9/dist-packages (from mp-api>=0.27.3->pymatgen[vis]) (1.0.5)\n",
            "Requirement already satisfied: setuptools in /usr/local/lib/python3.9/dist-packages (from mp-api>=0.27.3->pymatgen[vis]) (67.6.0)\n",
            "Requirement already satisfied: emmet-core>=0.39.8 in /usr/local/lib/python3.9/dist-packages (from mp-api>=0.27.3->pymatgen[vis]) (0.51.0)\n",
            "Requirement already satisfied: tenacity>=6.2.0 in /usr/local/lib/python3.9/dist-packages (from plotly>=4.5.0->pymatgen[vis]) (8.2.2)\n",
            "Requirement already satisfied: charset-normalizer~=2.0.0 in /usr/local/lib/python3.9/dist-packages (from requests->pymatgen[vis]) (2.0.12)\n",
            "Requirement already satisfied: certifi>=2017.4.17 in /usr/local/lib/python3.9/dist-packages (from requests->pymatgen[vis]) (2022.12.7)\n",
            "Requirement already satisfied: idna<4,>=2.5 in /usr/local/lib/python3.9/dist-packages (from requests->pymatgen[vis]) (3.4)\n",
            "Requirement already satisfied: urllib3<1.27,>=1.21.1 in /usr/local/lib/python3.9/dist-packages (from requests->pymatgen[vis]) (1.26.15)\n",
            "Requirement already satisfied: ruamel.yaml.clib>=0.2.6 in /usr/local/lib/python3.9/dist-packages (from ruamel.yaml>=0.17.0->pymatgen[vis]) (0.2.7)\n",
            "Requirement already satisfied: future in /usr/local/lib/python3.9/dist-packages (from uncertainties>=3.1.4->pymatgen[vis]) (0.18.3)\n",
            "Requirement already satisfied: pytz>=2020.1 in /usr/local/lib/python3.9/dist-packages (from pandas->pymatgen[vis]) (2022.7.1)\n",
            "Requirement already satisfied: PyYAML>=3.01 in /usr/local/lib/python3.9/dist-packages (from pybtex->pymatgen[vis]) (6.0)\n",
            "Requirement already satisfied: six in /usr/local/lib/python3.9/dist-packages (from pybtex->pymatgen[vis]) (1.16.0)\n",
            "Requirement already satisfied: latexcodec>=1.0.4 in /usr/local/lib/python3.9/dist-packages (from pybtex->pymatgen[vis]) (2.0.1)\n",
            "Requirement already satisfied: mpmath>=0.19 in /usr/local/lib/python3.9/dist-packages (from sympy->pymatgen[vis]) (1.3.0)\n",
            "Requirement already satisfied: pydantic>=1.10.2 in /usr/local/lib/python3.9/dist-packages (from emmet-core>=0.39.8->mp-api>=0.27.3->pymatgen[vis]) (1.10.6)\n",
            "Requirement already satisfied: zipp>=3.1.0 in /usr/local/lib/python3.9/dist-packages (from importlib-resources>=3.2.0->matplotlib>=1.5->pymatgen[vis]) (3.15.0)\n"
          ]
        }
      ]
    },
    {
      "cell_type": "code",
      "source": [
        "!pip install --upgrade pymatgen"
      ],
      "metadata": {
        "id": "IeOhgdyEjwXv",
        "outputId": "aeb0b1c0-2945-44b4-ef2e-d59ee9a82de1",
        "colab": {
          "base_uri": "https://localhost:8080/"
        }
      },
      "execution_count": 60,
      "outputs": [
        {
          "output_type": "stream",
          "name": "stdout",
          "text": [
            "Looking in indexes: https://pypi.org/simple, https://us-python.pkg.dev/colab-wheels/public/simple/\n",
            "Requirement already satisfied: pymatgen in /usr/local/lib/python3.9/dist-packages (2023.3.23)\n",
            "Requirement already satisfied: spglib>=2.0.2 in /usr/local/lib/python3.9/dist-packages (from pymatgen) (2.0.2)\n",
            "Requirement already satisfied: sympy in /usr/local/lib/python3.9/dist-packages (from pymatgen) (1.11.1)\n",
            "Requirement already satisfied: uncertainties>=3.1.4 in /usr/local/lib/python3.9/dist-packages (from pymatgen) (3.1.7)\n",
            "Requirement already satisfied: ruamel.yaml>=0.17.0 in /usr/local/lib/python3.9/dist-packages (from pymatgen) (0.17.21)\n",
            "Requirement already satisfied: mp-api>=0.27.3 in /usr/local/lib/python3.9/dist-packages (from pymatgen) (0.30.10)\n",
            "Requirement already satisfied: plotly>=4.5.0 in /usr/local/lib/python3.9/dist-packages (from pymatgen) (5.13.1)\n",
            "Requirement already satisfied: matplotlib>=1.5 in /usr/local/lib/python3.9/dist-packages (from pymatgen) (3.7.1)\n",
            "Requirement already satisfied: requests in /usr/local/lib/python3.9/dist-packages (from pymatgen) (2.27.1)\n",
            "Requirement already satisfied: networkx>=2.2 in /usr/local/lib/python3.9/dist-packages (from pymatgen) (3.0)\n",
            "Requirement already satisfied: scipy>=1.5.0 in /usr/local/lib/python3.9/dist-packages (from pymatgen) (1.10.1)\n",
            "Requirement already satisfied: numpy>=1.20.1 in /usr/local/lib/python3.9/dist-packages (from pymatgen) (1.22.4)\n",
            "Requirement already satisfied: pybtex in /usr/local/lib/python3.9/dist-packages (from pymatgen) (0.24.0)\n",
            "Requirement already satisfied: tabulate in /usr/local/lib/python3.9/dist-packages (from pymatgen) (0.8.10)\n",
            "Requirement already satisfied: pandas in /usr/local/lib/python3.9/dist-packages (from pymatgen) (1.4.4)\n",
            "Requirement already satisfied: monty>=3.0.2 in /usr/local/lib/python3.9/dist-packages (from pymatgen) (2022.9.9)\n",
            "Requirement already satisfied: palettable>=3.1.1 in /usr/local/lib/python3.9/dist-packages (from pymatgen) (3.3.0)\n",
            "Requirement already satisfied: tqdm in /usr/local/lib/python3.9/dist-packages (from pymatgen) (4.65.0)\n",
            "Requirement already satisfied: packaging>=20.0 in /usr/local/lib/python3.9/dist-packages (from matplotlib>=1.5->pymatgen) (23.0)\n",
            "Requirement already satisfied: pillow>=6.2.0 in /usr/local/lib/python3.9/dist-packages (from matplotlib>=1.5->pymatgen) (8.4.0)\n",
            "Requirement already satisfied: pyparsing>=2.3.1 in /usr/local/lib/python3.9/dist-packages (from matplotlib>=1.5->pymatgen) (3.0.9)\n",
            "Requirement already satisfied: fonttools>=4.22.0 in /usr/local/lib/python3.9/dist-packages (from matplotlib>=1.5->pymatgen) (4.39.2)\n",
            "Requirement already satisfied: python-dateutil>=2.7 in /usr/local/lib/python3.9/dist-packages (from matplotlib>=1.5->pymatgen) (2.8.2)\n",
            "Requirement already satisfied: cycler>=0.10 in /usr/local/lib/python3.9/dist-packages (from matplotlib>=1.5->pymatgen) (0.11.0)\n",
            "Requirement already satisfied: importlib-resources>=3.2.0 in /usr/local/lib/python3.9/dist-packages (from matplotlib>=1.5->pymatgen) (5.12.0)\n",
            "Requirement already satisfied: contourpy>=1.0.1 in /usr/local/lib/python3.9/dist-packages (from matplotlib>=1.5->pymatgen) (1.0.7)\n",
            "Requirement already satisfied: kiwisolver>=1.0.1 in /usr/local/lib/python3.9/dist-packages (from matplotlib>=1.5->pymatgen) (1.4.4)\n",
            "Requirement already satisfied: emmet-core>=0.39.8 in /usr/local/lib/python3.9/dist-packages (from mp-api>=0.27.3->pymatgen) (0.51.0)\n",
            "Requirement already satisfied: setuptools in /usr/local/lib/python3.9/dist-packages (from mp-api>=0.27.3->pymatgen) (67.6.0)\n",
            "Requirement already satisfied: typing-extensions>=3.7.4.1 in /usr/local/lib/python3.9/dist-packages (from mp-api>=0.27.3->pymatgen) (4.5.0)\n",
            "Requirement already satisfied: msgpack in /usr/local/lib/python3.9/dist-packages (from mp-api>=0.27.3->pymatgen) (1.0.5)\n",
            "Requirement already satisfied: tenacity>=6.2.0 in /usr/local/lib/python3.9/dist-packages (from plotly>=4.5.0->pymatgen) (8.2.2)\n",
            "Requirement already satisfied: certifi>=2017.4.17 in /usr/local/lib/python3.9/dist-packages (from requests->pymatgen) (2022.12.7)\n",
            "Requirement already satisfied: idna<4,>=2.5 in /usr/local/lib/python3.9/dist-packages (from requests->pymatgen) (3.4)\n",
            "Requirement already satisfied: charset-normalizer~=2.0.0 in /usr/local/lib/python3.9/dist-packages (from requests->pymatgen) (2.0.12)\n",
            "Requirement already satisfied: urllib3<1.27,>=1.21.1 in /usr/local/lib/python3.9/dist-packages (from requests->pymatgen) (1.26.15)\n",
            "Requirement already satisfied: ruamel.yaml.clib>=0.2.6 in /usr/local/lib/python3.9/dist-packages (from ruamel.yaml>=0.17.0->pymatgen) (0.2.7)\n",
            "Requirement already satisfied: future in /usr/local/lib/python3.9/dist-packages (from uncertainties>=3.1.4->pymatgen) (0.18.3)\n",
            "Requirement already satisfied: pytz>=2020.1 in /usr/local/lib/python3.9/dist-packages (from pandas->pymatgen) (2022.7.1)\n",
            "Requirement already satisfied: six in /usr/local/lib/python3.9/dist-packages (from pybtex->pymatgen) (1.16.0)\n",
            "Requirement already satisfied: PyYAML>=3.01 in /usr/local/lib/python3.9/dist-packages (from pybtex->pymatgen) (6.0)\n",
            "Requirement already satisfied: latexcodec>=1.0.4 in /usr/local/lib/python3.9/dist-packages (from pybtex->pymatgen) (2.0.1)\n",
            "Requirement already satisfied: mpmath>=0.19 in /usr/local/lib/python3.9/dist-packages (from sympy->pymatgen) (1.3.0)\n",
            "Requirement already satisfied: pydantic>=1.10.2 in /usr/local/lib/python3.9/dist-packages (from emmet-core>=0.39.8->mp-api>=0.27.3->pymatgen) (1.10.6)\n",
            "Requirement already satisfied: zipp>=3.1.0 in /usr/local/lib/python3.9/dist-packages (from importlib-resources>=3.2.0->matplotlib>=1.5->pymatgen) (3.15.0)\n"
          ]
        }
      ]
    },
    {
      "cell_type": "markdown",
      "source": [
        "## **I. Background**\n",
        "---\n"
      ],
      "metadata": {
        "id": "avKE9WgBZ1EZ"
      }
    },
    {
      "cell_type": "markdown",
      "source": [
        "## **II. Computational Methods**\n",
        "---\n"
      ],
      "metadata": {
        "id": "2_JSm4urWaks"
      }
    },
    {
      "cell_type": "markdown",
      "source": [
        "## **1. Data**\n",
        "\n",
        "### a. Get structure of Lead tungstate $\\text{PbWO}_4$ \n",
        "Using The material project database\n"
      ],
      "metadata": {
        "id": "dO6q12hXZb-2"
      }
    },
    {
      "cell_type": "code",
      "source": [
        "from mp_api.client import MPRester\n",
        "# Create an instance of the MPRester class with API key\n",
        "api_key = \"2o5h5xcZkd72tk78L2JoYIhfAt7SiBA3\"\n",
        "with MPRester(api_key) as mpr:\n",
        "    # You can pass in a formula to get_materials_ids\n",
        "    list_PbWO4= mpr.get_materials_ids(\"PbWO4\") \n",
        "print (list_PbWO4)"
      ],
      "metadata": {
        "id": "9-kzNs8ioNAn",
        "outputId": "2875ce11-71b0-44e9-ba43-84bfab90e94c",
        "colab": {
          "base_uri": "https://localhost:8080/",
          "height": 87,
          "referenced_widgets": [
            "bb11d89555a846808866842fb9cbd913",
            "098c97acd1c748b4aa432f7a4f1b5ecb",
            "6b52c1b4ee31437c8c7901c129c84e90",
            "fec89619294140c983171227a43f3bca",
            "cf634000d5744d598804a439db004a6e",
            "b03b224742ca4fd286626566dedd45b1",
            "375081b5f3804874b0d402267db2fc0d",
            "c8026d0d920e4290889711e67b6b58fc",
            "d65906e4fe0549f9bc874567425a18f4",
            "403cd0a536294b9aac33f93c8f5907e0",
            "d0bce6e8cb1b4a0ea9c88bedfb441091"
          ]
        }
      },
      "execution_count": 50,
      "outputs": [
        {
          "output_type": "display_data",
          "data": {
            "text/plain": [
              "Retrieving MaterialsDoc documents:   0%|          | 0/10 [00:00<?, ?it/s]"
            ],
            "application/vnd.jupyter.widget-view+json": {
              "version_major": 2,
              "version_minor": 0,
              "model_id": "bb11d89555a846808866842fb9cbd913"
            }
          },
          "metadata": {}
        },
        {
          "output_type": "stream",
          "name": "stdout",
          "text": [
            "[MPID(mp-22410), MPID(mp-504591), MPID(mp-558734), MPID(mp-641365), MPID(mp-641415), MPID(mp-641441), MPID(mp-689140), MPID(mp-795689), MPID(mp-1173387), MPID(mp-1179954)]\n"
          ]
        }
      ]
    },
    {
      "cell_type": "markdown",
      "source": [
        "Choose: MPID(mp-641365)"
      ],
      "metadata": {
        "id": "_dy4Tt_Bp2Tm"
      }
    },
    {
      "cell_type": "code",
      "source": [
        "with MPRester(api_key) as mpr:\n",
        "    docs = mpr.summary.search(material_ids=[\"mp-641415\"], fields=[\"structure\"])\n",
        "    # Retrieve the crystal structure data for the material with ID \"mp-641415\"\n",
        "    structure_data = mpr.get_structure_by_material_id(\"mp-641415\")\n",
        "print(structure_data)"
      ],
      "metadata": {
        "id": "rSKUOXLouVuR",
        "outputId": "03b5e1e5-7d86-41c2-876d-0737b6dbd92b",
        "colab": {
          "base_uri": "https://localhost:8080/",
          "height": 1000,
          "referenced_widgets": [
            "7998a7ddad0d466abb9b2fc252a19fdf",
            "c6b71617eda2415ab1f349db60f37a8d",
            "eaed20d05b284bde93fd11dd63f65473",
            "d2679f931f3c44a4ab1171ed70779ed2",
            "cc38f14a217f41b2a7ca0d4d361b3e12",
            "685755392c884bd692209eeaae6804ce",
            "7f416a4730a742e2bbe19b425f4301e0",
            "b98ce21703414be5891c6f5cca371979",
            "ba6d3e5f25da44339b239a6b5b76fb1a",
            "d89b27109d384d68b156747cd4d04e80",
            "e4e380100ced46e2b3a109c2b2c77a07",
            "6d14601fabda4184a24c117703e7b040",
            "4273d9b2379e41eb97aeab3d5d6f9929",
            "bc989417a1914ba8bf2fd889f2b84ffd",
            "6924c82dec674870a8919d5ec15ac263",
            "0723b33a56e941fbaa94003c21151f29",
            "9811883bf5d44f388dc03900ade6552f",
            "4068b13f0a074580945267f7e8060bea",
            "ba79cdb3b2394e4dbca7a12c8c999685",
            "bc9dbf9c3b3144659568a4359d3287ee",
            "1d9f1f174b704cc7b5753e001954a4fa",
            "a086e840921847c98808989f447d89c5"
          ]
        }
      },
      "execution_count": 51,
      "outputs": [
        {
          "output_type": "display_data",
          "data": {
            "text/plain": [
              "Retrieving SummaryDoc documents:   0%|          | 0/1 [00:00<?, ?it/s]"
            ],
            "application/vnd.jupyter.widget-view+json": {
              "version_major": 2,
              "version_minor": 0,
              "model_id": "7998a7ddad0d466abb9b2fc252a19fdf"
            }
          },
          "metadata": {}
        },
        {
          "output_type": "display_data",
          "data": {
            "text/plain": [
              "Retrieving MaterialsDoc documents:   0%|          | 0/1 [00:00<?, ?it/s]"
            ],
            "application/vnd.jupyter.widget-view+json": {
              "version_major": 2,
              "version_minor": 0,
              "model_id": "6d14601fabda4184a24c117703e7b040"
            }
          },
          "metadata": {}
        },
        {
          "output_type": "stream",
          "name": "stdout",
          "text": [
            "Full Formula (Pb8 W8 O32)\n",
            "Reduced Formula: PbWO4\n",
            "abc   :   7.180633   7.495824  14.839475\n",
            "angles:  60.011400  90.000000  90.000000\n",
            "pbc   :       True       True       True\n",
            "Sites (48)\n",
            "  #  SP           a         b         c    magmom\n",
            "---  ----  --------  --------  --------  --------\n",
            "  0  Pb    0.796834  0.984856  0.346013        -0\n",
            "  1  Pb    0.703166  0.984856  0.846013        -0\n",
            "  2  Pb    0.203166  0.015144  0.653987        -0\n",
            "  3  Pb    0.296834  0.015144  0.153987        -0\n",
            "  4  Pb    0.539277  0.519534  0.354399        -0\n",
            "  5  Pb    0.960723  0.519534  0.854399        -0\n",
            "  6  Pb    0.460723  0.480466  0.645601        -0\n",
            "  7  Pb    0.039277  0.480466  0.145601        -0\n",
            "  8  W     0.332694  0.997578  0.41875          0\n",
            "  9  W     0.167306  0.997578  0.91875          0\n",
            " 10  W     0.667306  0.002422  0.58125          0\n",
            " 11  W     0.832694  0.002422  0.08125          0\n",
            " 12  W     0.042195  0.433783  0.41325          0\n",
            " 13  W     0.457805  0.433783  0.91325          0\n",
            " 14  W     0.957805  0.566217  0.58675          0\n",
            " 15  W     0.542195  0.566217  0.08675          0\n",
            " 16  O     0.484092  0.821458  0.396492        -0\n",
            " 17  O     0.015908  0.821458  0.896492        -0\n",
            " 18  O     0.515908  0.178542  0.603508        -0\n",
            " 19  O     0.984092  0.178542  0.103508        -0\n",
            " 20  O     0.915717  0.409899  0.312575        -0\n",
            " 21  O     0.584283  0.409899  0.812575        -0\n",
            " 22  O     0.084283  0.590101  0.687425        -0\n",
            " 23  O     0.415717  0.590101  0.187425        -0\n",
            " 24  O     0.858127  0.587185  0.444284        -0\n",
            " 25  O     0.641873  0.587185  0.944284        -0\n",
            " 26  O     0.141873  0.412815  0.555716        -0\n",
            " 27  O     0.358127  0.412815  0.055716        -0\n",
            " 28  O     0.247993  0.152226  0.284447        -0\n",
            " 29  O     0.252007  0.152226  0.784447        -0\n",
            " 30  O     0.752007  0.847774  0.715553        -0\n",
            " 31  O     0.747993  0.847774  0.215553        -0\n",
            " 32  O     0.229903  0.222781  0.448935         0\n",
            " 33  O     0.270097  0.222781  0.948935         0\n",
            " 34  O     0.770097  0.777219  0.551065         0\n",
            " 35  O     0.729903  0.777219  0.051065         0\n",
            " 36  O     0.191316  0.647616  0.330487        -0\n",
            " 37  O     0.308684  0.647616  0.830487        -0\n",
            " 38  O     0.808684  0.352384  0.669513        -0\n",
            " 39  O     0.691316  0.352384  0.169513        -0\n",
            " 40  O     0.121708  0.832625  0.476349        -0\n",
            " 41  O     0.378292  0.832625  0.976349        -0\n",
            " 42  O     0.878292  0.167375  0.523651        -0\n",
            " 43  O     0.621708  0.167375  0.023651        -0\n",
            " 44  O     0.576717  0.139409  0.418582         0\n",
            " 45  O     0.923283  0.139409  0.918582         0\n",
            " 46  O     0.423283  0.860591  0.581418         0\n",
            " 47  O     0.076717  0.860591  0.081418         0\n"
          ]
        }
      ]
    },
    {
      "cell_type": "markdown",
      "source": [
        "### a. Material description\n",
        "\n",
        "$\\text{PbWO}_4$ crystalinzes in the monoclinic $\\text{P2}_1/\\text{c}$ space group\n",
        "\n",
        "| Parameter | Value |\n",
        "| --- | --- |\n",
        "| Number of atoms | 48 |\n",
        "| Crystal system | Monoclinic |\n",
        "| Lattice system | Monoclinic |\n",
        "| Symbol |  $\\text{P2}_1/\\text{c}$  |\n",
        "| Point group | 2/m\n",
        "| Possible Ocxidation States | $\\text{W}^ {6+}, \\ \\text{Pb}^ {2+}, \\ \\text{O}^ {2-}$ \n",
        "| Cell length a | 7.180633 Å |\n",
        "| Cell length b | 7.495824 Å |\n",
        "| Cell length c | 14.839475 Å |\n",
        "| Angle α | 60.011400° |\n",
        "| Angle β | 90.000000° |\n",
        "| Angle γ | 90.000000° |\n",
        "| Volume | 691.8009357914264 Å |"
      ],
      "metadata": {
        "id": "3alKHaLBnXFf"
      }
    },
    {
      "cell_type": "markdown",
      "source": [
        "### b. Visualize structure data"
      ],
      "metadata": {
        "id": "YVtgF1-YjMNB"
      }
    },
    {
      "cell_type": "markdown",
      "source": [
        "Create Pymatgen structure object"
      ],
      "metadata": {
        "id": "GyB4MkyYznpZ"
      }
    },
    {
      "cell_type": "code",
      "source": [
        "from pymatgen.core.structure import Structure\n",
        "from pymatgen.io.vasp import Vasprun\n",
        "from pymatgen.vis.structure_vtk import  MultiStructuresVis\n",
        "\n",
        "with MPRester(api_key) as mpr:\n",
        "    # Structure data as dictionary \n",
        "    structure_dic = mpr.get_structure_by_material_id(\"mp-641415\").as_dict()\n",
        "# Create a pymatgen Structure object\n",
        "structure = Structure.from_dict(structure_data)"
      ],
      "metadata": {
        "id": "tAZp3tRnjPPR",
        "outputId": "28e2e475-b68b-4e42-8415-943c29fd72a3",
        "colab": {
          "base_uri": "https://localhost:8080/",
          "height": 106,
          "referenced_widgets": [
            "92795e8c16b745d0a36d1658dd7c984c",
            "c9cbdc9badf34a06b13e233a0d37dc0c",
            "012039b673114cf9ae6c10529bb44200",
            "4f21455e21424eb5baeaa354e595bc3a",
            "4ef4f83654674b8d8be01532e81616f2",
            "aa6d3b6a62754774a310afd5bc9067ef",
            "d1482bbbf796448889f194366dd817f0",
            "1373a7b13624408ea8e3e1f82ca4a38e",
            "bf30e592b7174e09b510efb0ee83de95",
            "6816ffb34fe340b29087b48b4b83c98c",
            "c3bd3ad51d0443f2be71d7f7b616216f"
          ]
        }
      },
      "execution_count": 66,
      "outputs": [
        {
          "output_type": "stream",
          "name": "stderr",
          "text": [
            "/usr/local/lib/python3.9/dist-packages/mp_api/client/mprester.py:146: UserWarning: mpcontribs-client not installed. Install the package to query MPContribs data, or construct pourbaix diagrams: 'pip install mpcontribs-client'\n",
            "  warnings.warn(\n"
          ]
        },
        {
          "output_type": "display_data",
          "data": {
            "text/plain": [
              "Retrieving MaterialsDoc documents:   0%|          | 0/1 [00:00<?, ?it/s]"
            ],
            "application/vnd.jupyter.widget-view+json": {
              "version_major": 2,
              "version_minor": 0,
              "model_id": "92795e8c16b745d0a36d1658dd7c984c"
            }
          },
          "metadata": {}
        }
      ]
    },
    {
      "cell_type": "markdown",
      "source": [
        "Plotting"
      ],
      "metadata": {
        "id": "Y3L9h4mQzsha"
      }
    },
    {
      "cell_type": "code",
      "source": [
        "vis = MultiStructuresVis([structure])\n"
      ],
      "metadata": {
        "id": "qBXPodUJzrXL",
        "outputId": "b8390b54-54be-44c5-8d91-876d39f6fb88",
        "colab": {
          "base_uri": "https://localhost:8080/",
          "height": 324
        }
      },
      "execution_count": 68,
      "outputs": [
        {
          "output_type": "error",
          "ename": "RuntimeError",
          "evalue": "ignored",
          "traceback": [
            "\u001b[0;31m---------------------------------------------------------------------------\u001b[0m",
            "\u001b[0;31mRuntimeError\u001b[0m                              Traceback (most recent call last)",
            "\u001b[0;32m<ipython-input-68-ec84b3a0b7fa>\u001b[0m in \u001b[0;36m<module>\u001b[0;34m\u001b[0m\n\u001b[0;32m----> 1\u001b[0;31m \u001b[0mvis\u001b[0m \u001b[0;34m=\u001b[0m \u001b[0mMultiStructuresVis\u001b[0m\u001b[0;34m(\u001b[0m\u001b[0;34m[\u001b[0m\u001b[0mstructure\u001b[0m\u001b[0;34m]\u001b[0m\u001b[0;34m)\u001b[0m\u001b[0;34m\u001b[0m\u001b[0;34m\u001b[0m\u001b[0m\n\u001b[0m",
            "\u001b[0;32m/usr/local/lib/python3.9/dist-packages/pymatgen/vis/structure_vtk.py\u001b[0m in \u001b[0;36m__init__\u001b[0;34m(self, element_color_mapping, show_unit_cell, show_bonds, show_polyhedron, poly_radii_tol_factor, excluded_bonding_elements, animated_movie_options)\u001b[0m\n\u001b[1;32m    978\u001b[0m             \u001b[0manimated_movie_options\u001b[0m \u001b[0;34m(\u001b[0m\u001b[0;34m)\u001b[0m\u001b[0;34m:\u001b[0m \u001b[0mUsed\u001b[0m \u001b[0;32mfor\u001b[0m \u001b[0mmoving\u001b[0m\u001b[0;34m.\u001b[0m\u001b[0;34m\u001b[0m\u001b[0;34m\u001b[0m\u001b[0m\n\u001b[1;32m    979\u001b[0m         \"\"\"\n\u001b[0;32m--> 980\u001b[0;31m         super().__init__(\n\u001b[0m\u001b[1;32m    981\u001b[0m             \u001b[0melement_color_mapping\u001b[0m\u001b[0;34m=\u001b[0m\u001b[0melement_color_mapping\u001b[0m\u001b[0;34m,\u001b[0m\u001b[0;34m\u001b[0m\u001b[0;34m\u001b[0m\u001b[0m\n\u001b[1;32m    982\u001b[0m             \u001b[0mshow_unit_cell\u001b[0m\u001b[0;34m=\u001b[0m\u001b[0mshow_unit_cell\u001b[0m\u001b[0;34m,\u001b[0m\u001b[0;34m\u001b[0m\u001b[0;34m\u001b[0m\u001b[0m\n",
            "\u001b[0;32m/usr/local/lib/python3.9/dist-packages/monty/dev.py\u001b[0m in \u001b[0;36mdecorated\u001b[0;34m(*args, **kwargs)\u001b[0m\n\u001b[1;32m    110\u001b[0m         \u001b[0;32mdef\u001b[0m \u001b[0mdecorated\u001b[0m\u001b[0;34m(\u001b[0m\u001b[0;34m*\u001b[0m\u001b[0margs\u001b[0m\u001b[0;34m,\u001b[0m \u001b[0;34m**\u001b[0m\u001b[0mkwargs\u001b[0m\u001b[0;34m)\u001b[0m\u001b[0;34m:\u001b[0m\u001b[0;34m\u001b[0m\u001b[0;34m\u001b[0m\u001b[0m\n\u001b[1;32m    111\u001b[0m             \u001b[0;32mif\u001b[0m \u001b[0;32mnot\u001b[0m \u001b[0mself\u001b[0m\u001b[0;34m.\u001b[0m\u001b[0mcondition\u001b[0m\u001b[0;34m:\u001b[0m\u001b[0;34m\u001b[0m\u001b[0;34m\u001b[0m\u001b[0m\n\u001b[0;32m--> 112\u001b[0;31m                 \u001b[0;32mraise\u001b[0m \u001b[0mRuntimeError\u001b[0m\u001b[0;34m(\u001b[0m\u001b[0mself\u001b[0m\u001b[0;34m.\u001b[0m\u001b[0mmessage\u001b[0m\u001b[0;34m)\u001b[0m\u001b[0;34m\u001b[0m\u001b[0;34m\u001b[0m\u001b[0m\n\u001b[0m\u001b[1;32m    113\u001b[0m             \u001b[0;32mreturn\u001b[0m \u001b[0m_callable\u001b[0m\u001b[0;34m(\u001b[0m\u001b[0;34m*\u001b[0m\u001b[0margs\u001b[0m\u001b[0;34m,\u001b[0m \u001b[0;34m**\u001b[0m\u001b[0mkwargs\u001b[0m\u001b[0;34m)\u001b[0m\u001b[0;34m\u001b[0m\u001b[0;34m\u001b[0m\u001b[0m\n\u001b[1;32m    114\u001b[0m \u001b[0;34m\u001b[0m\u001b[0m\n",
            "\u001b[0;31mRuntimeError\u001b[0m: Visualization requires the installation of VTK with Python bindings."
          ]
        }
      ]
    },
    {
      "cell_type": "markdown",
      "source": [],
      "metadata": {
        "id": "Q0-cFU6LjB2e"
      }
    },
    {
      "cell_type": "markdown",
      "source": [
        "## References\n",
        "\n",
        "---\n",
        "\n",
        "[1][https://iopscience.iop.org/article/10.1088/1748-0221/5/03/P03010/pdf](https://iopscience.iop.org/article/10.1088/1748-0221/5/03/P03010/pdf)\n",
        "\n",
        "[2][https://umkc-illiad-oclc-org.proxy.library.umkc.edu/illiad/illiad.dll?Action=10&Form=72&Value=524188](https://umkc-illiad-oclc-org.proxy.library.umkc.edu/illiad/illiad.dll?Action=10&Form=72&Value=524188)\n",
        "\n",
        "[3][http://cds.cern.ch/record/687201/files/note00_002.pdf](http://cds.cern.ch/record/687201/files/note00_002.pdf)\n",
        "\n",
        "[4][https://www.photonics.com/Articles/Scintillator_Detectors_with_Integrated/a57310](https://www.photonics.com/Articles/Scintillator_Detectors_with_Integrated/a57310)\n",
        "\n",
        "[5][http://jdj.mit.edu/~chrc/scintillation.html](http://jdj.mit.edu/~chrc/scintillation.html)\n",
        "\n",
        "[6][https://arxiv.org/pdf/2103.13106.pdf](https://arxiv.org/pdf/2103.13106.pdf)\n",
        "\n",
        "[7][https://www.researchgate.net/publication/241252047_Comparative_study_of_electronic_structures_and_nonproportionality_of_scintillator_materials](https://www.researchgate.net/publication/241252047_Comparative_study_of_electronic_structures_and_nonproportionality_of_scintillator_materials)\n",
        "\n",
        "[8][https://arxiv.org/ftp/arxiv/papers/1509/1509.07822.pdf](https://arxiv.org/ftp/arxiv/papers/1509/1509.07822.pdf)\n",
        "\n",
        "Computation\n",
        "---\n",
        "[1] https://workshop.materialsproject.org/lessons/04_materials_api/MAPI%20Lesson%20%28filled%29/"
      ],
      "metadata": {
        "id": "HfbNYynnYRSc"
      }
    }
  ]
}